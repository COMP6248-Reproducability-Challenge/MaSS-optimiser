{
 "cells": [
  {
   "cell_type": "code",
   "execution_count": null,
   "metadata": {
    "collapsed": true
   },
   "outputs": [],
   "source": []
  },
  {
   "cell_type": "code",
   "execution_count": null,
   "outputs": [],
   "source": [
    "import torch\n",
    "from torch import nn\n",
    "import torchvision\n",
    "import pandas as pd\n",
    "import torchvision.transforms as transforms\n",
    "import matplotlib.pyplot as plt\n",
    "import numpy as np\n",
    "import ssl\n",
    "import seaborn as sns\n",
    "import time\n",
    "import torchbearer\n",
    "\n",
    "sns.set_theme()\n",
    "ssl._create_default_https_context = ssl._create_unverified_context"
   ],
   "metadata": {
    "collapsed": false,
    "pycharm": {
     "name": "#%%\n"
    }
   }
  },
  {
   "cell_type": "code",
   "execution_count": null,
   "outputs": [],
   "source": [
    "# Device configuration\n",
    "device = torch.device('cuda' if torch.cuda.is_available() else 'cpu')"
   ],
   "metadata": {
    "collapsed": false,
    "pycharm": {
     "name": "#%%\n"
    }
   }
  },
  {
   "cell_type": "code",
   "execution_count": null,
   "outputs": [],
   "source": [
    "# Hyper-parameters\n",
    "num_epochs = 150\n",
    "batch_size = 64\n",
    "learning_rate = 0.01"
   ],
   "metadata": {
    "collapsed": false,
    "pycharm": {
     "name": "#%%\n"
    }
   }
  },
  {
   "cell_type": "code",
   "execution_count": null,
   "outputs": [],
   "source": [
    "# dataset has PILImage images of range [0, 1].\n",
    "# We transform them to Tensors of normalized range [-1, 1]\n",
    "transform = transforms.Compose(\n",
    "    [transforms.ToTensor(),\n",
    "     transforms.Normalize((0.5, 0.5, 0.5), (0.5, 0.5, 0.5)),\n",
    "     transforms.RandomHorizontalFlip(),\n",
    "     transforms.RandomAffine(0, translate=(0.1,0.1))])\n",
    "\n",
    "# CIFAR10: 60000 32x32 color images in 10 classes, with 6000 images per class\n",
    "train_dataset = torchvision.datasets.CIFAR10(root='./data', train=True,\n",
    "                                        download=True, transform=transform)\n",
    "\n",
    "test_dataset = torchvision.datasets.CIFAR10(root='./data', train=False,\n",
    "                                       download=True, transform=transform)\n",
    "\n",
    "train_loader = torch.utils.data.DataLoader(train_dataset, batch_size=batch_size,\n",
    "                                          shuffle=True)\n",
    "\n",
    "test_loader = torch.utils.data.DataLoader(test_dataset, batch_size=batch_size,\n",
    "                                         shuffle=False)\n",
    "\n",
    "classes = ('plane', 'car', 'bird', 'cat',\n",
    "           'deer', 'dog', 'frog', 'horse', 'ship', 'truck')\n",
    "\n",
    "def imshow(img):\n",
    "    img = img / 2 + 0.5  # unnormalize\n",
    "    npimg = img.numpy()\n",
    "    plt.imshow(np.transpose(npimg, (1, 2, 0)))\n",
    "    plt.show()\n",
    "\n",
    "\n",
    "# get some random training images\n",
    "dataiter = iter(train_loader)\n",
    "images, labels = dataiter.next()\n",
    "\n",
    "# show images\n",
    "imshow(torchvision.utils.make_grid(images))"
   ],
   "metadata": {
    "collapsed": false,
    "pycharm": {
     "name": "#%%\n"
    }
   }
  },
  {
   "cell_type": "code",
   "execution_count": null,
   "outputs": [],
   "source": [
    "import torch\n",
    "from torch.optim import Optimizer\n",
    "\n",
    "\n",
    "\n",
    "class MaSS(Optimizer):\n",
    "    def __init__(self, params, lr=0, alpha=0, kappa_t=0):\n",
    "        if lr and lr < 0.0:\n",
    "            raise ValueError(\"Invalid learning rate: {}\".format(lr))\n",
    "        if alpha < 0.0:\n",
    "            raise ValueError(\"Invalid alpha value: {}\".format(alpha))\n",
    "        if kappa_t < 0.0:\n",
    "            raise ValueError(\"Invalid kappa_t value: {}\".format(kappa_t))\n",
    "\n",
    "        defaults = dict(lr=lr, alpha=alpha, kappa_t=kappa_t)\n",
    "\n",
    "        super(MaSS, self).__init__(params, defaults)\n",
    "\n",
    "    @torch.no_grad()\n",
    "    def step(self, closure=None):\n",
    "        \"\"\"Performs a single optimization step.\n",
    "        Args:\n",
    "            closure (callable, optional): A closure that reevaluates the model\n",
    "                and returns the loss.\n",
    "        \"\"\"\n",
    "        loss = None\n",
    "        if closure is not None:\n",
    "            with torch.enable_grad():\n",
    "                loss = closure()\n",
    "\n",
    "        for group in self.param_groups:\n",
    "            params_with_grad = []\n",
    "            w_list = []\n",
    "            d_p_list = []\n",
    "            lr = group['lr']\n",
    "            alpha = group['alpha']\n",
    "            kappa_t = group['kappa_t']\n",
    "            delta = lr / alpha / kappa_t\n",
    "            gamma = (1 - alpha)/(1 + alpha)\n",
    "            lr2 = (lr - alpha * delta)/(1 + alpha)\n",
    "\n",
    "            for p in group['params']:\n",
    "                params_with_grad.append(p)\n",
    "                w_list.append(p)\n",
    "                #v_list.append(p)\n",
    "                d_p_list.append(p.grad)\n",
    "                state = self.state[p]\n",
    "\n",
    "            for i, param in enumerate(params_with_grad):\n",
    "                d_p = d_p_list[i]\n",
    "                w_t = w_list[i]\n",
    "\n",
    "                w_t1 = param - lr*d_p\n",
    "                param.data = (1 + gamma)*w_t1.detach() - gamma*w_t - lr2*d_p\n",
    "\n",
    "                w_list[i] = w_t1\n",
    "\n",
    "            for p in params_with_grad:\n",
    "                state = self.state[p]\n",
    "\n",
    "        return loss"
   ],
   "metadata": {
    "collapsed": false,
    "pycharm": {
     "name": "#%%\n"
    }
   }
  },
  {
   "cell_type": "code",
   "execution_count": null,
   "outputs": [],
   "source": [
    "class ConvNet(nn.Module):\n",
    "    def __init__(self):\n",
    "        super(ConvNet, self).__init__()\n",
    "        self.covModule = nn.Sequential(\n",
    "            #input a 3x32x32 image\n",
    "            nn.Conv2d(3, 64, (5,5)),  #image size will be 64x28x28\n",
    "            nn.BatchNorm2d(64),\n",
    "            nn.ReLU(),\n",
    "            nn.MaxPool2d(2, stride=2),#image size will be 64x14x14\n",
    "            nn.Conv2d(64, 64, (5,5)), #image size will be 64x10x10\n",
    "            nn.BatchNorm2d(64),\n",
    "            nn.ReLU(),\n",
    "            nn.MaxPool2d(2, stride=2), #image size will be 64x5x5\n",
    "            nn.Conv2d(64, 128, (5,5)), #image size will be 64x1x1\n",
    "            nn.BatchNorm2d(128),\n",
    "            nn.ReLU(),\n",
    "            #nn.MaxPool2d(2, 2), last maxpool layer cannot work\n",
    "        )\n",
    "        self.fcModule = nn.Sequential(\n",
    "            nn.Linear(128, 128),\n",
    "            nn.ReLU(),\n",
    "            nn.Linear(128, 10),\n",
    "            #nn.Softmax() #no need for softmax ans CrossEntropy loss already has it\n",
    "        )\n",
    "    def forward(self, x):\n",
    "        x = self.covModule(x)\n",
    "        x = x.view(-1, 1*1*128)\n",
    "        output = self.fcModule(x)\n",
    "        return output"
   ],
   "metadata": {
    "collapsed": false,
    "pycharm": {
     "name": "#%%\n"
    }
   }
  },
  {
   "cell_type": "code",
   "execution_count": null,
   "outputs": [],
   "source": [
    "def plotLosses(epochs, Loss, title):\n",
    "    plt.figure(figsize=(10,6))\n",
    "    plt.title(title)\n",
    "    plt.plot(epochs, Loss, label = \"Loss\")\n",
    "    plt.legend()\n",
    "    plt.xlabel(\"Epochs\")\n",
    "    plt.ylabel(\"Loss\")\n",
    "    plt.savefig(title + '.png')"
   ],
   "metadata": {
    "collapsed": false,
    "pycharm": {
     "name": "#%%\n"
    }
   }
  },
  {
   "cell_type": "code",
   "execution_count": null,
   "outputs": [],
   "source": [
    "model = ConvNet().to(device)\n",
    "ModelName = 'CNNBatchNorm'\n",
    "\n",
    "criterion = nn.CrossEntropyLoss()\n",
    "optimizer = MaSS(model.parameters(), lr =learning_rate ,alpha=0.05, kappa_t=3)\n",
    "opt = 'MaSS'"
   ],
   "metadata": {
    "collapsed": false,
    "pycharm": {
     "name": "#%%\n"
    }
   }
  },
  {
   "cell_type": "code",
   "execution_count": null,
   "outputs": [],
   "source": [
    "epochs = []\n",
    "n_total_steps = len(train_loader)\n",
    "train_loss_average = torch.zeros(num_epochs)\n",
    "valid_loss_average = torch.zeros(num_epochs)\n",
    "train_accuracy = torch.zeros(num_epochs)\n",
    "valid_accuracy = torch.zeros(num_epochs)\n",
    "scheduler = torch.optim.lr_scheduler.MultiStepLR(optimizer, milestones=[60,120], gamma=0.1)\n"
   ],
   "metadata": {
    "collapsed": false,
    "pycharm": {
     "name": "#%%\n"
    }
   }
  },
  {
   "cell_type": "code",
   "execution_count": null,
   "outputs": [],
   "source": [
    "\n",
    "def train():\n",
    "\n",
    "    model.train()\n",
    "    running_train_loss = 0\n",
    "    correct = 0\n",
    "    total = 0\n",
    "\n",
    "    for i, (images, labels) in enumerate(train_loader):\n",
    "        images = images.to(device)\n",
    "        labels = labels.to(device)\n",
    "\n",
    "        # Forward pass\n",
    "        outputs = model(images)\n",
    "        train_step_loss = criterion(outputs, labels)\n",
    "\n",
    "        # Backward and optimize\n",
    "        optimizer.zero_grad()\n",
    "        train_step_loss.backward()\n",
    "        optimizer.step()\n",
    "\n",
    "        running_train_loss += train_step_loss.item()\n",
    "\n",
    "        #predictions\n",
    "        _, predicted = torch.max(outputs.data, 1)\n",
    "        total += labels.size(0)\n",
    "        correct += (predicted == labels).sum().item()\n",
    "\n",
    "    accuracy = 100.*correct/total\n",
    "\n",
    "    #get the training losses and accuracies\n",
    "    train_loss_average[epoch] = running_train_loss/len(train_loader)\n",
    "    train_accuracy[epoch] = accuracy\n",
    "\n",
    "    print(f'Training Loss: {running_train_loss/len(train_loader)}\\t \\\n",
    "            Training accuracy: {train_accuracy[epoch]}')\n"
   ],
   "metadata": {
    "collapsed": false,
    "pycharm": {
     "name": "#%%\n"
    }
   }
  },
  {
   "cell_type": "code",
   "execution_count": null,
   "outputs": [],
   "source": [
    "def test():\n",
    "    model.eval()\n",
    "\n",
    "    running_valid_loss = 0\n",
    "    correct = 0\n",
    "    total = 0\n",
    "\n",
    "    #validation loop\n",
    "    with torch.no_grad():\n",
    "        for i, (images, labels) in enumerate(test_loader):\n",
    "            images = images.to(device)\n",
    "            labels = labels.to(device)\n",
    "\n",
    "            outputs = model(images)\n",
    "            valid_step_loss = criterion(outputs, labels)\n",
    "\n",
    "            running_valid_loss += valid_step_loss.item()\n",
    "\n",
    "            #predictions\n",
    "            _, predicted = torch.max(outputs.data, 1)\n",
    "            total += labels.size(0)\n",
    "            correct += (predicted == labels).sum().item()\n",
    "\n",
    "    accuracy = 100.*correct/total\n",
    "\n",
    "    #get the validation losses\n",
    "    valid_loss_average[epoch] = running_valid_loss/len(test_loader)\n",
    "    valid_accuracy[epoch] = accuracy\n",
    "\n",
    "\n",
    "    print(f'Validation Loss: {running_valid_loss/len(test_loader)}\\t \\\n",
    "            Validation accuracy: {valid_accuracy[epoch]}\\t \\\n",
    "            LR:{curr_lr}')"
   ],
   "metadata": {
    "collapsed": false,
    "pycharm": {
     "name": "#%%\n"
    }
   }
  },
  {
   "cell_type": "code",
   "execution_count": null,
   "outputs": [],
   "source": [
    "start_time = time.time()\n",
    "for epoch in range(num_epochs):\n",
    "    print(f'Epoch: {epoch+1}')\n",
    "    train()\n",
    "    test()\n",
    "\n",
    "    epochs.append(epoch)\n",
    "\n",
    "    #get the current learning rate\n",
    "    curr_lr = optimizer.param_groups[0]['lr']\n",
    "\n",
    "    #step the learning rate scheduler\n",
    "    scheduler.step()\n",
    "\n",
    "\n",
    "print(\"--- %s seconds ---\" % (time.time() - start_time))\n",
    "print('Finished Training')\n"
   ],
   "metadata": {
    "collapsed": false,
    "pycharm": {
     "name": "#%%\n"
    }
   }
  },
  {
   "cell_type": "code",
   "execution_count": null,
   "outputs": [],
   "source": [
    "with torch.no_grad():\n",
    "    n_correct = 0\n",
    "    n_samples = 0\n",
    "    n_class_correct = [0 for i in range(10)]\n",
    "    n_class_samples = [0 for i in range(10)]\n",
    "    for images, labels in test_loader:\n",
    "        images = images.to(device)\n",
    "        labels = labels.to(device)\n",
    "        outputs = model(images)\n",
    "        # max returns (value ,index)\n",
    "        _, predicted = torch.max(outputs, 1)\n",
    "        n_samples += labels.size(0)\n",
    "        n_correct += (predicted == labels).sum().item()\n",
    "\n",
    "        for label, prediction in zip(labels, predicted):\n",
    "            if (label == prediction):\n",
    "                n_class_correct[label] += 1\n",
    "            n_class_samples[label] += 1\n",
    "\n",
    "    acc = 100.0 * n_correct / n_samples\n",
    "    print(f'Accuracy of the network: {acc} %')\n",
    "\n",
    "    for i in range(10):\n",
    "        class_acc = 100.0 * n_class_correct[i] / n_class_samples[i]\n",
    "        print(f'Accuracy of {classes[i]}: {class_acc} %')\n",
    "\n"
   ],
   "metadata": {
    "collapsed": false,
    "pycharm": {
     "name": "#%%\n"
    }
   }
  },
  {
   "cell_type": "code",
   "execution_count": null,
   "outputs": [],
   "source": [
    "def plotLosses(epochs, Loss, title):\n",
    "    plt.figure(figsize=(10,6))\n",
    "    plt.title(title)\n",
    "    plt.plot(epochs, Loss, label = \"Loss\")\n",
    "    plt.legend()\n",
    "    plt.xlabel(\"Epochs\")\n",
    "    plt.ylabel(\"Loss\")\n",
    "    plt.savefig(title + '.png')\n"
   ],
   "metadata": {
    "collapsed": false,
    "pycharm": {
     "name": "#%%\n"
    }
   }
  },
  {
   "cell_type": "code",
   "execution_count": null,
   "outputs": [],
   "source": [
    "#plot the loss diagrams and save\n",
    "plt.figure(figsize=(10,6))\n",
    "plt.title(f'CNN-BatchNorm-{opt} lr:{learning_rate} acc:{acc}')\n",
    "plt.plot(epochs, train_loss_average, label = \"Training loss\")\n",
    "plt.plot(epochs, valid_loss_average, label = 'Validation loss')\n",
    "plt.legend()\n",
    "plt.xlabel(\"Epochs\")\n",
    "plt.ylabel(\"Loss\")\n",
    "plt.savefig(f'CNN-BatchNorm-Loss-{opt} lr:{learning_rate} acc:{acc}.png')\n",
    "\n",
    "\n",
    "#plot the loss diagrams and save\n",
    "plt.figure(figsize=(10,6))\n",
    "plt.title(f'CNN-BatchNorm-{opt} lr:{learning_rate} acc:{acc}')\n",
    "plt.plot(epochs, train_accuracy, label = \"Training Accuracy\")\n",
    "plt.plot(epochs, valid_accuracy, label = 'Validation Accuracy')\n",
    "plt.legend()\n",
    "plt.xlabel(\"Epoch\")\n",
    "plt.ylabel(\"Accuracy\")\n",
    "plt.savefig(f'CNN-BatchNorm-Accuracy-{opt} lr:{learning_rate} acc:{acc}.png')\n",
    "\n",
    "PATH = f'./CNN-BatchNorm-{opt} lr:{learning_rate} acc:{acc}.pth'\n",
    "torch.save(model.state_dict(), PATH)"
   ],
   "metadata": {
    "collapsed": false,
    "pycharm": {
     "name": "#%%\n"
    }
   }
  },
  {
   "cell_type": "code",
   "execution_count": null,
   "outputs": [],
   "source": [
    "from pathlib import Path\n",
    "\n",
    "df = pd.DataFrame(train_loss_average, columns=['train_loss'], index=[i for i in range(1,151)])\n",
    "filepath = Path(f'ResultsData/trainloss/{ModelName}-{opt}-{learning_rate}-{acc}.csv')\n",
    "filepath.parent.mkdir(exist_ok=True)\n",
    "df.to_csv(filepath)\n",
    "\n",
    "df = pd.DataFrame(valid_loss_average, columns=['valid_loss'], index=[i for i in range(1,151)])\n",
    "filepath = Path(f'ResultsData/validloss/{ModelName}-{opt}-{learning_rate}-{acc}.csv')\n",
    "filepath.parent.mkdir(exist_ok=True)\n",
    "df.to_csv(filepath)\n",
    "\n",
    "df = pd.DataFrame(train_accuracy, columns=['train_accuracy'], index=[i for i in range(1,151)])\n",
    "filepath = Path(f'ResultsData/trainacc/{ModelName}-{opt}-{learning_rate}-{acc}.csv')\n",
    "filepath.parent.mkdir(exist_ok=True)\n",
    "df.to_csv(filepath)\n",
    "\n",
    "df = pd.DataFrame(valid_accuracy, columns=['valid_accuracy'], index=[i for i in range(1,151)])\n",
    "filepath = Path(f'ResultsData/validacc/{ModelName}-{opt}-{learning_rate}-{acc}.csv')\n",
    "filepath.parent.mkdir(exist_ok=True)\n",
    "df.to_csv(filepath)\n"
   ],
   "metadata": {
    "collapsed": false,
    "pycharm": {
     "name": "#%%\n"
    }
   }
  },
  {
   "cell_type": "code",
   "execution_count": null,
   "outputs": [],
   "source": [
    "#plot the loss diagrams and save\n",
    "plotLosses(epochs, train_loss_average, f'CNN-{opt}_train_loss lr:{learning_rate} acc:{acc}')\n",
    "plotLosses(epochs, valid_loss_average, f'CNN-{opt}_valid_loss lr:{learning_rate} acc:{acc}')\n",
    "\n",
    "#plot the loss diagrams and save\n",
    "plt.figure(figsize=(10,6))\n",
    "plt.title(f'CNN-BatchNorm-{opt} lr:{learning_rate} acc:{acc}')\n",
    "plt.plot(epochs, train_loss_average, label = \"Training loss\")\n",
    "plt.plot(epochs, valid_loss_average, label = 'Validation loss')\n",
    "plt.legend()\n",
    "plt.xlabel(\"Epochs\")\n",
    "plt.ylabel(\"Loss\")\n",
    "plt.savefig(f'CNN-BatchNorm-Loss-{opt} lr:{learning_rate} acc:{acc}.png')\n",
    "\n",
    "\n",
    "#plot the loss diagrams and save\n",
    "plt.figure(figsize=(10,6))\n",
    "plt.title(f'CNN-BatchNorm-{opt} lr:{learning_rate} acc:{acc}')\n",
    "plt.plot(epochs, train_accuracy, label = \"Training Accuracy\")\n",
    "plt.plot(epochs, valid_accuracy, label = 'Validation Accuracy')\n",
    "plt.legend()\n",
    "plt.xlabel(\"Epoch\")\n",
    "plt.ylabel(\"Accuracy\")\n",
    "plt.savefig(f'CNN-BatchNorm-Accuracy-{opt} lr:{learning_rate} acc:{acc}.png')\n",
    "\n",
    "PATH = f'./CNN-BatchNorm-{opt} lr:{learning_rate} acc:{acc}.pth'\n",
    "torch.save(model.state_dict(), PATH)\n"
   ],
   "metadata": {
    "collapsed": false,
    "pycharm": {
     "name": "#%%\n"
    }
   }
  }
 ],
 "metadata": {
  "kernelspec": {
   "display_name": "Python 3",
   "language": "python",
   "name": "python3"
  },
  "language_info": {
   "codemirror_mode": {
    "name": "ipython",
    "version": 2
   },
   "file_extension": ".py",
   "mimetype": "text/x-python",
   "name": "python",
   "nbconvert_exporter": "python",
   "pygments_lexer": "ipython2",
   "version": "2.7.6"
  }
 },
 "nbformat": 4,
 "nbformat_minor": 0
}
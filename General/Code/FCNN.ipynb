{
 "cells": [
  {
   "cell_type": "code",
   "execution_count": 34,
   "metadata": {
    "collapsed": false,
    "jupyter": {
     "outputs_hidden": false
    },
    "pycharm": {
     "name": "#%%\n"
    }
   },
   "outputs": [],
   "source": [
    "import torch\n",
    "from torch import nn\n",
    "import torchvision\n",
    "import pandas as pd\n",
    "import torchvision.transforms as transforms\n",
    "import matplotlib.pyplot as plt\n",
    "import numpy as np\n",
    "import ssl\n",
    "import seaborn as sns\n",
    "import time\n",
    "from MaSS import MaSS\n",
    "import torchbearer\n",
    "\n",
    "sns.set_theme()\n",
    "ssl._create_default_https_context = ssl._create_unverified_context"
   ]
  },
  {
   "cell_type": "code",
   "execution_count": 35,
   "metadata": {
    "collapsed": false,
    "jupyter": {
     "outputs_hidden": false
    },
    "pycharm": {
     "name": "#%%\n"
    }
   },
   "outputs": [],
   "source": [
    "# Device configuration\n",
    "device = torch.device('cuda' if torch.cuda.is_available() else 'cpu')"
   ]
  },
  {
   "cell_type": "code",
   "execution_count": 36,
   "metadata": {
    "collapsed": false,
    "jupyter": {
     "outputs_hidden": false
    },
    "pycharm": {
     "name": "#%%\n"
    }
   },
   "outputs": [],
   "source": [
    "# Hyper-parameters\n",
    "num_epochs = 100\n",
    "batch_size = 64\n",
    "learning_rate = 0.005"
   ]
  },
  {
   "cell_type": "code",
   "execution_count": 37,
   "metadata": {
    "collapsed": false,
    "jupyter": {
     "outputs_hidden": false
    },
    "pycharm": {
     "name": "#%%\n"
    }
   },
   "outputs": [
    {
     "data": {
      "text/plain": "<Figure size 432x288 with 1 Axes>",
      "image/png": "[encoded data removed]"
     },
     "metadata": {},
     "output_type": "display_data"
    }
   ],
   "source": [
    "# dataset has PILImage images of range [0, 1].\n",
    "# We transform them to Tensors of normalized range [-1, 1]\n",
    "'''\n",
    "transform = transforms.Compose(\n",
    "    [transforms.ToTensor(),\n",
    "     transforms.Normalize((0.5, 0.5, 0.5), (0.5, 0.5, 0.5))])\n",
    "'''\n",
    "transform = transforms.Compose([\n",
    "    transforms.ToTensor(),\n",
    "    transforms.Lambda(lambda x: x.view(-1)),\n",
    "])\n",
    "\n",
    "train_dataset = torchvision.datasets.MNIST(root='./data', train=True,\n",
    "                                        download=True, transform=transform)\n",
    "\n",
    "test_dataset = torchvision.datasets.MNIST(root='./data', train=False,\n",
    "                                       download=True, transform=transform)\n",
    "\n",
    "train_loader = torch.utils.data.DataLoader(train_dataset, batch_size=batch_size,\n",
    "                                          shuffle=True)\n",
    "\n",
    "test_loader = torch.utils.data.DataLoader(test_dataset, batch_size=batch_size,\n",
    "                                         shuffle=False)\n",
    "\n",
    "def imshow(img):\n",
    "    img = img / 2 + 0.5  # unnormalize\n",
    "    npimg = img.numpy()\n",
    "    plt.imshow(np.transpose(npimg, (1, 2, 0)))\n",
    "    plt.show()\n",
    "\n",
    "\n",
    "# get some random training images\n",
    "dataiter = iter(train_loader)\n",
    "images, labels = dataiter.next()\n",
    "\n",
    "# show images\n",
    "imshow(torchvision.utils.make_grid(images))"
   ]
  },
  {
   "cell_type": "code",
   "execution_count": 38,
   "metadata": {
    "collapsed": false,
    "jupyter": {
     "outputs_hidden": false
    },
    "pycharm": {
     "name": "#%%\n"
    }
   },
   "outputs": [],
   "source": [
    "class FCNClass(nn.Module):\n",
    "    def __init__(self):\n",
    "        # input: 784 Dimensional Vectors as input\n",
    "        super(FCNClass, self).__init__()\n",
    "\n",
    "        # layer 1 (784-100)\n",
    "        # Hidden Layer\n",
    "        # Dropout Layer with keep prob 0.5\n",
    "        self.hidden1 = nn.Sequential(\n",
    "                        nn.Linear(784, 100),\n",
    "                        nn.ReLU(),\n",
    "                        nn.Dropout(p=0.5)\n",
    "        )\n",
    "\n",
    "        # Layer 2 (100-100)\n",
    "        # Hidden Layer\n",
    "        # Dropout Layer with keep prob 0.5\n",
    "        self.hidden2 = nn.Sequential(\n",
    "                        nn.Linear(100, 100),\n",
    "                        nn.ReLU(),\n",
    "                        nn.Dropout(p=0.5)\n",
    "        )\n",
    "\n",
    "        # Layer 3 (100-100)\n",
    "        # Hidden Layer\n",
    "        # Dropout Layer with keep prob 0.5\n",
    "        self.hidden3 = nn.Sequential(\n",
    "                        nn.Linear(100, 100),\n",
    "                        nn.ReLU(),\n",
    "                        nn.Dropout(p=0.5)\n",
    "        )\n",
    "\n",
    "        # Layer 4 (100-10)\n",
    "        # Hidden Layer\n",
    "        # Dropout Layer with keep prob 0.5\n",
    "        self.output = nn.Sequential(\n",
    "                        nn.Linear(100, 10),\n",
    "                        nn.ReLU(),\n",
    "                        nn.Dropout(p=0.5)\n",
    "        )\n",
    "        # 10 softmax activated output neurons\n",
    "        self.outputLayer = nn.Softmax(dim=1)\n",
    "\n",
    "\n",
    "    def forward(self, x):\n",
    "        midLevel = self.hidden1(x)\n",
    "        midLevel = self.hidden2(midLevel)\n",
    "        midLevel = self.hidden3(midLevel)\n",
    "        output   = self.output(midLevel)\n",
    "        #activation = self.outputLayer(output)\n",
    "        return output\n"
   ]
  },
  {
   "cell_type": "code",
   "execution_count": 39,
   "metadata": {},
   "outputs": [],
   "source": [
    "class FCNClass_batch1(nn.Module):\n",
    "    def __init__(self):\n",
    "        # input: 784 Dimensional Vectors as input\n",
    "        super(FCNClass_batch1, self).__init__()\n",
    "\n",
    "        # layer 1 (784-100)\n",
    "        # Hidden Layer\n",
    "        # Dropout Layer with keep prob 0.5\n",
    "        self.hidden1 = nn.Sequential(\n",
    "                        nn.Linear(784, 100),\n",
    "                        nn.ReLU(),\n",
    "                        nn.Dropout(p=0.5)\n",
    "        )\n",
    "\n",
    "        # Layer 2 (100-100)\n",
    "        # Hidden Layer\n",
    "        # Dropout Layer with keep prob 0.5\n",
    "        self.hidden2 = nn.Sequential(\n",
    "                        nn.Linear(100, 100),\n",
    "                        nn.ReLU(),\n",
    "                        nn.Dropout(p=0.5)\n",
    "        )\n",
    "\n",
    "        # Layer 3 (100-100)\n",
    "        # Hidden Layer\n",
    "        # Dropout Layer with keep prob 0.5\n",
    "        self.hidden3 = nn.Sequential(\n",
    "                        nn.Linear(100, 100),\n",
    "                        nn.ReLU(),\n",
    "                        nn.Dropout(p=0.5)\n",
    "        )\n",
    "\n",
    "        # Layer 4 (100-10)\n",
    "        # Hidden Layer\n",
    "        # Dropout Layer with keep prob 0.5\n",
    "        self.output = nn.Sequential(\n",
    "                        nn.Linear(100, 10),\n",
    "                        nn.ReLU(),\n",
    "                        nn.Dropout(p=0.5)\n",
    "        )\n",
    "        # 10 softmax activated output neurons\n",
    "        self.outputLayer = nn.Softmax(dim=1)\n",
    "\n",
    "        \n",
    "        self.normised = nn.BatchNorm1d(num_features=10)\n",
    "\n",
    "\n",
    "    def forward(self, x):\n",
    "        midLevel = self.hidden1(x)\n",
    "        midLevel = self.hidden2(midLevel)\n",
    "        midLevel = self.hidden3(midLevel)\n",
    "        output   = self.output(midLevel)\n",
    "        normised = self.normised(output)\n",
    "        \n",
    "        return normised\n"
   ]
  },
  {
   "cell_type": "code",
   "execution_count": 40,
   "metadata": {},
   "outputs": [],
   "source": [
    "class FCNClass_batch2(nn.Module):\n",
    "    def __init__(self):\n",
    "        # input: 784 Dimensional Vectors as input\n",
    "        super(FCNClass_batch2, self).__init__()\n",
    "\n",
    "        # layer 1 (784-100)\n",
    "        # Hidden Layer\n",
    "        # Dropout Layer with keep prob 0.5\n",
    "        self.hidden1 = nn.Sequential(\n",
    "                        nn.Linear(784, 100),\n",
    "                        nn.ReLU(),\n",
    "                        nn.Dropout(p=0.5)\n",
    "        )\n",
    "\n",
    "        # Layer 2 (100-100)\n",
    "        # Hidden Layer\n",
    "        # Dropout Layer with keep prob 0.5\n",
    "        self.hidden2 = nn.Sequential(\n",
    "                        nn.Linear(100, 100),\n",
    "                        nn.ReLU(),\n",
    "                        nn.Dropout(p=0.5)\n",
    "        )\n",
    "\n",
    "        # Layer 3 (100-100)\n",
    "        # Hidden Layer\n",
    "        # Dropout Layer with keep prob 0.5\n",
    "        self.hidden3 = nn.Sequential(\n",
    "                        nn.Linear(100, 100),\n",
    "                        nn.ReLU(),\n",
    "                        nn.Dropout(p=0.5)\n",
    "        )\n",
    "        \n",
    "        self.normised = nn.BatchNorm1d(num_features=100)\n",
    "\n",
    "        # Layer 4 (100-10)\n",
    "        # Hidden Layer\n",
    "        # Dropout Layer with keep prob 0.5\n",
    "        self.output = nn.Sequential(\n",
    "                        nn.Linear(100, 10),\n",
    "                        nn.ReLU(),\n",
    "                        nn.Dropout(p=0.5)\n",
    "        )\n",
    "        \n",
    "        \n",
    "        # 10 softmax activated output neurons\n",
    "        self.outputLayer = nn.Softmax(dim=1)\n",
    "        \n",
    "\n",
    "    def forward(self, x):\n",
    "        midLevel = self.hidden1(x)\n",
    "        midLevel = self.hidden2(midLevel)\n",
    "        midLevel = self.hidden3(midLevel)\n",
    "        normised = self.normised(midLevel)\n",
    "        output   = self.output(normised)\n",
    "        return output\n"
   ]
  },
  {
   "cell_type": "code",
   "execution_count": 41,
   "metadata": {
    "collapsed": false,
    "jupyter": {
     "outputs_hidden": false
    },
    "pycharm": {
     "name": "#%%\n"
    }
   },
   "outputs": [],
   "source": [
    "#model = FCNClass().to(device)\n",
    "#model = FCNClass_batch1().to(device) # not great based on initial test\n",
    "model = FCNClass_batch2().to(device)\n",
    "ModelName = 'FCNBatchNorm'\n",
    "\n",
    "criterion = nn.CrossEntropyLoss()\n",
    "#optimizer = MaSS(model.parameters(), lr=learning_rate, alpha=0.05, kappa_t=3)\n",
    "#optimizer = torch.optim.SGD( model.parameters(), momentum = 0.9, lr=learning_rate, nesterov = True,)\n",
    "optimizer = torch.optim.Adam(model.parameters(), lr=learning_rate)\n",
    "opt = \"Adam\" # sgd,  nesterov and mass\n"
   ]
  },
  {
   "cell_type": "code",
   "execution_count": 42,
   "metadata": {
    "collapsed": false,
    "jupyter": {
     "outputs_hidden": false
    },
    "pycharm": {
     "name": "#%%\n"
    }
   },
   "outputs": [],
   "source": [
    "epochs = []\n",
    "n_total_steps = len(train_loader)\n",
    "train_loss_average = torch.zeros(num_epochs)\n",
    "valid_loss_average = torch.zeros(num_epochs)\n",
    "train_accuracy = torch.zeros(num_epochs)\n",
    "valid_accuracy = torch.zeros(num_epochs)\n",
    "scheduler = torch.optim.lr_scheduler.MultiStepLR(optimizer, milestones=[60,120], gamma=0.1)\n"
   ]
  },
  {
   "cell_type": "code",
   "execution_count": 43,
   "metadata": {
    "collapsed": false,
    "jupyter": {
     "outputs_hidden": false
    },
    "pycharm": {
     "name": "#%%\n"
    }
   },
   "outputs": [],
   "source": [
    "\n",
    "def train():\n",
    "\n",
    "    model.train()\n",
    "    running_train_loss = 0\n",
    "    correct = 0\n",
    "    total = 0\n",
    "\n",
    "    for i, (images, labels) in enumerate(train_loader):\n",
    "        images = images.to(device)\n",
    "        labels = labels.to(device)\n",
    "\n",
    "        # Forward pass\n",
    "        outputs = model(images)\n",
    "        train_step_loss = criterion(outputs, labels)\n",
    "\n",
    "        # Backward and optimize\n",
    "        optimizer.zero_grad()\n",
    "        train_step_loss.backward()\n",
    "        optimizer.step()\n",
    "\n",
    "        running_train_loss += train_step_loss.item()\n",
    "\n",
    "        #predictions\n",
    "        _, predicted = torch.max(outputs.data, 1)\n",
    "        total += labels.size(0)\n",
    "        correct += (predicted == labels).sum().item()\n",
    "\n",
    "    accuracy = 100.*correct/total\n",
    "\n",
    "    #get the training losses and accuracies\n",
    "    train_loss_average[epoch] = running_train_loss/len(train_loader)\n",
    "    train_accuracy[epoch] = accuracy\n",
    "\n",
    "    print(f'Training Loss: {running_train_loss/len(train_loader)}\\t \\\n",
    "            Training accuracy: {train_accuracy[epoch]}')\n"
   ]
  },
  {
   "cell_type": "code",
   "execution_count": 44,
   "metadata": {
    "collapsed": false,
    "jupyter": {
     "outputs_hidden": false
    },
    "pycharm": {
     "name": "#%%\n"
    }
   },
   "outputs": [],
   "source": [
    "def test():\n",
    "    model.eval()\n",
    "\n",
    "    running_valid_loss = 0\n",
    "    correct = 0\n",
    "    total = 0\n",
    "\n",
    "    #validation loop\n",
    "    with torch.no_grad():\n",
    "        for i, (images, labels) in enumerate(test_loader):\n",
    "            images = images.to(device)\n",
    "            labels = labels.to(device)\n",
    "\n",
    "            outputs = model(images)\n",
    "            valid_step_loss = criterion(outputs, labels)\n",
    "\n",
    "            running_valid_loss += valid_step_loss.item()\n",
    "\n",
    "            #predictions\n",
    "            _, predicted = torch.max(outputs.data, 1)\n",
    "            total += labels.size(0)\n",
    "            correct += (predicted == labels).sum().item()\n",
    "\n",
    "    accuracy = 100.*correct/total\n",
    "\n",
    "    #get the validation losses\n",
    "    valid_loss_average[epoch] = running_valid_loss/len(test_loader)\n",
    "    valid_accuracy[epoch] = accuracy\n",
    "\n",
    "\n",
    "    print(f'Validation Loss: {running_valid_loss/len(test_loader)}\\t \\\n",
    "            Validation accuracy: {valid_accuracy[epoch]}\\t \\\n",
    "            LR:{curr_lr}')"
   ]
  },
  {
   "cell_type": "code",
   "execution_count": 45,
   "metadata": {
    "collapsed": false,
    "jupyter": {
     "outputs_hidden": false
    },
    "pycharm": {
     "name": "#%%\n"
    }
   },
   "outputs": [
    {
     "name": "stdout",
     "output_type": "stream",
     "text": [
      "Epoch: 1\n",
      "Training Loss: 1.7159433484331632\t             Training accuracy: 40.83333206176758\n",
      "Validation Loss: 0.7712938250250118\t             Validation accuracy: 91.0199966430664\t             LR:0.005\n",
      "Epoch: 2\n",
      "Training Loss: 1.4845546361352844\t             Training accuracy: 48.150001525878906\n",
      "Validation Loss: 0.6757687742163421\t             Validation accuracy: 92.48999786376953\t             LR:0.005\n",
      "Epoch: 3\n",
      "Training Loss: 1.4491012494828401\t             Training accuracy: 49.099998474121094\n",
      "Validation Loss: 0.6247022260146536\t             Validation accuracy: 93.20999908447266\t             LR:0.005\n",
      "Epoch: 4\n",
      "Training Loss: 1.439804152702726\t             Training accuracy: 48.94166564941406\n",
      "Validation Loss: 0.6150397381205468\t             Validation accuracy: 93.26000213623047\t             LR:0.005\n",
      "Epoch: 5\n",
      "Training Loss: 1.4213691650550249\t             Training accuracy: 49.538333892822266\n",
      "Validation Loss: 0.5991331331289498\t             Validation accuracy: 93.80999755859375\t             LR:0.005\n",
      "Epoch: 6\n",
      "Training Loss: 1.4057847609016687\t             Training accuracy: 49.9466667175293\n",
      "Validation Loss: 0.533062381634287\t             Validation accuracy: 94.30999755859375\t             LR:0.005\n",
      "Epoch: 7\n",
      "Training Loss: 1.4048625436037587\t             Training accuracy: 49.848331451416016\n",
      "Validation Loss: 0.5475598204477578\t             Validation accuracy: 93.97000122070312\t             LR:0.005\n",
      "Epoch: 8\n",
      "Training Loss: 1.4045505807725096\t             Training accuracy: 49.935001373291016\n",
      "Validation Loss: 0.5450393945738009\t             Validation accuracy: 93.58999633789062\t             LR:0.005\n",
      "Epoch: 9\n",
      "Training Loss: 1.3965971305934606\t             Training accuracy: 50.1783332824707\n",
      "Validation Loss: 0.5345425421644927\t             Validation accuracy: 94.23999786376953\t             LR:0.005\n",
      "Epoch: 10\n",
      "Training Loss: 1.3898993786464113\t             Training accuracy: 50.32833480834961\n",
      "Validation Loss: 0.5611694948688434\t             Validation accuracy: 94.62999725341797\t             LR:0.005\n",
      "Epoch: 11\n",
      "Training Loss: 1.3908468180500877\t             Training accuracy: 50.02000045776367\n",
      "Validation Loss: 0.4996605559139495\t             Validation accuracy: 94.27999877929688\t             LR:0.005\n",
      "Epoch: 12\n",
      "Training Loss: 1.3790209377879528\t             Training accuracy: 50.54166793823242\n",
      "Validation Loss: 0.49939956833982163\t             Validation accuracy: 94.08000183105469\t             LR:0.005\n",
      "Epoch: 13\n",
      "Training Loss: 1.3795952984392008\t             Training accuracy: 50.36333465576172\n",
      "Validation Loss: 0.49790247382631725\t             Validation accuracy: 94.2300033569336\t             LR:0.005\n",
      "Epoch: 14\n",
      "Training Loss: 1.3748946517134017\t             Training accuracy: 50.67499923706055\n",
      "Validation Loss: 0.49532480946012364\t             Validation accuracy: 94.83000183105469\t             LR:0.005\n",
      "Epoch: 15\n",
      "Training Loss: 1.3627991532720227\t             Training accuracy: 50.91999816894531\n",
      "Validation Loss: 0.4784322143739955\t             Validation accuracy: 94.75\t             LR:0.005\n",
      "Epoch: 16\n",
      "Training Loss: 1.3663895719214034\t             Training accuracy: 50.55666732788086\n",
      "Validation Loss: 0.4820091280208272\t             Validation accuracy: 94.62999725341797\t             LR:0.005\n",
      "Epoch: 17\n",
      "Training Loss: 1.3661600467619865\t             Training accuracy: 50.77166748046875\n",
      "Validation Loss: 0.5467259665583349\t             Validation accuracy: 94.97000122070312\t             LR:0.005\n",
      "Epoch: 18\n",
      "Training Loss: 1.3586421973669707\t             Training accuracy: 51.00833511352539\n",
      "Validation Loss: 0.5620320218194063\t             Validation accuracy: 95.44000244140625\t             LR:0.005\n",
      "Epoch: 19\n",
      "Training Loss: 1.361733011980809\t             Training accuracy: 50.78666687011719\n",
      "Validation Loss: 0.4756494149280961\t             Validation accuracy: 94.91999816894531\t             LR:0.005\n",
      "Epoch: 20\n",
      "Training Loss: 1.3654758969603826\t             Training accuracy: 50.51166534423828\n",
      "Validation Loss: 0.4626899653938925\t             Validation accuracy: 94.95999908447266\t             LR:0.005\n",
      "Epoch: 21\n",
      "Training Loss: 1.3481746922169666\t             Training accuracy: 51.08000183105469\n",
      "Validation Loss: 0.49145887260604054\t             Validation accuracy: 95.38999938964844\t             LR:0.005\n",
      "Epoch: 22\n",
      "Training Loss: 1.3527886967287897\t             Training accuracy: 50.90833282470703\n",
      "Validation Loss: 0.4529624274771684\t             Validation accuracy: 95.26000213623047\t             LR:0.005\n",
      "Epoch: 23\n",
      "Training Loss: 1.342793940925903\t             Training accuracy: 51.348331451416016\n",
      "Validation Loss: 0.4334735452749167\t             Validation accuracy: 95.0199966430664\t             LR:0.005\n",
      "Epoch: 24\n",
      "Training Loss: 1.3543421117735823\t             Training accuracy: 50.9183349609375\n",
      "Validation Loss: 0.43442372863839385\t             Validation accuracy: 95.2300033569336\t             LR:0.005\n",
      "Epoch: 25\n",
      "Training Loss: 1.34366892402106\t             Training accuracy: 51.1783332824707\n",
      "Validation Loss: 0.49842257275702845\t             Validation accuracy: 95.0\t             LR:0.005\n",
      "Epoch: 26\n",
      "Training Loss: 1.3408160648112104\t             Training accuracy: 51.3216667175293\n",
      "Validation Loss: 0.4670447708125327\t             Validation accuracy: 94.98999786376953\t             LR:0.005\n",
      "Epoch: 27\n",
      "Training Loss: 1.3470643159550135\t             Training accuracy: 51.1150016784668\n",
      "Validation Loss: 0.4566827476214451\t             Validation accuracy: 95.55000305175781\t             LR:0.005\n",
      "Epoch: 28\n",
      "Training Loss: 1.3424513402905291\t             Training accuracy: 51.31666564941406\n",
      "Validation Loss: 0.4769873629519894\t             Validation accuracy: 95.33000183105469\t             LR:0.005\n",
      "Epoch: 29\n",
      "Training Loss: 1.3392699661412473\t             Training accuracy: 51.30500030517578\n",
      "Validation Loss: 0.4262567413081029\t             Validation accuracy: 95.5999984741211\t             LR:0.005\n",
      "Epoch: 30\n",
      "Training Loss: 1.3445576131343842\t             Training accuracy: 51.14500045776367\n",
      "Validation Loss: 0.4812757593051643\t             Validation accuracy: 94.98999786376953\t             LR:0.005\n",
      "Epoch: 31\n",
      "Training Loss: 1.3549004556146511\t             Training accuracy: 50.720001220703125\n",
      "Validation Loss: 0.43908161541838553\t             Validation accuracy: 95.29000091552734\t             LR:0.005\n",
      "Epoch: 32\n",
      "Training Loss: 1.3374598181323964\t             Training accuracy: 51.415000915527344\n",
      "Validation Loss: 0.4772414700810317\t             Validation accuracy: 95.61000061035156\t             LR:0.005\n",
      "Epoch: 33\n",
      "Training Loss: 1.3363877541856217\t             Training accuracy: 51.356666564941406\n",
      "Validation Loss: 0.5227973096689601\t             Validation accuracy: 95.37999725341797\t             LR:0.005\n",
      "Epoch: 34\n",
      "Training Loss: 1.3340677873157998\t             Training accuracy: 51.57833480834961\n",
      "Validation Loss: 0.44864987890431834\t             Validation accuracy: 95.5\t             LR:0.005\n",
      "Epoch: 35\n",
      "Training Loss: 1.3301663806697708\t             Training accuracy: 51.723331451416016\n",
      "Validation Loss: 0.4130235309623609\t             Validation accuracy: 95.51000213623047\t             LR:0.005\n",
      "Epoch: 36\n",
      "Training Loss: 1.330766195745102\t             Training accuracy: 51.516666412353516\n",
      "Validation Loss: 0.4185642258376832\t             Validation accuracy: 95.75\t             LR:0.005\n",
      "Epoch: 37\n",
      "Training Loss: 1.323887621606591\t             Training accuracy: 51.66999816894531\n",
      "Validation Loss: 0.4309337369765446\t             Validation accuracy: 95.48999786376953\t             LR:0.005\n",
      "Epoch: 38\n",
      "Training Loss: 1.3395081029009464\t             Training accuracy: 51.17499923706055\n",
      "Validation Loss: 0.39494077747414824\t             Validation accuracy: 95.30999755859375\t             LR:0.005\n",
      "Epoch: 39\n",
      "Training Loss: 1.3377267798381065\t             Training accuracy: 51.27000045776367\n",
      "Validation Loss: 0.39933117550269814\t             Validation accuracy: 95.58999633789062\t             LR:0.005\n",
      "Epoch: 40\n",
      "Training Loss: 1.3307119699429348\t             Training accuracy: 51.51166534423828\n",
      "Validation Loss: 0.48348030609310055\t             Validation accuracy: 95.58000183105469\t             LR:0.005\n",
      "Epoch: 41\n",
      "Training Loss: 1.33399871976645\t             Training accuracy: 51.5533332824707\n",
      "Validation Loss: 0.505790649515808\t             Validation accuracy: 95.4800033569336\t             LR:0.005\n",
      "Epoch: 42\n",
      "Training Loss: 1.3272992788728621\t             Training accuracy: 51.5966682434082\n",
      "Validation Loss: 0.5167738390006836\t             Validation accuracy: 95.5999984741211\t             LR:0.005\n",
      "Epoch: 43\n",
      "Training Loss: 1.3314958137871107\t             Training accuracy: 51.48666763305664\n",
      "Validation Loss: 0.4192672481012952\t             Validation accuracy: 95.81999969482422\t             LR:0.005\n",
      "Epoch: 44\n",
      "Training Loss: 1.3298692804918106\t             Training accuracy: 51.4283332824707\n",
      "Validation Loss: 0.42904579193349096\t             Validation accuracy: 95.4800033569336\t             LR:0.005\n",
      "Epoch: 45\n",
      "Training Loss: 1.3208973844930816\t             Training accuracy: 51.823333740234375\n",
      "Validation Loss: 0.4351344829911639\t             Validation accuracy: 95.68000030517578\t             LR:0.005\n",
      "Epoch: 46\n",
      "Training Loss: 1.3259167092949597\t             Training accuracy: 51.560001373291016\n",
      "Validation Loss: 0.44096233273387714\t             Validation accuracy: 95.63999938964844\t             LR:0.005\n",
      "Epoch: 47\n",
      "Training Loss: 1.3253443778704987\t             Training accuracy: 51.51166534423828\n",
      "Validation Loss: 0.44026927460151116\t             Validation accuracy: 95.69000244140625\t             LR:0.005\n",
      "Epoch: 48\n",
      "Training Loss: 1.3242139801033523\t             Training accuracy: 51.71666717529297\n",
      "Validation Loss: 0.4107869163060644\t             Validation accuracy: 95.83000183105469\t             LR:0.005\n",
      "Epoch: 49\n",
      "Training Loss: 1.328387385683019\t             Training accuracy: 51.4466667175293\n",
      "Validation Loss: 0.4713201117553529\t             Validation accuracy: 95.83999633789062\t             LR:0.005\n",
      "Epoch: 50\n",
      "Training Loss: 1.3236275868120986\t             Training accuracy: 51.69499969482422\n",
      "Validation Loss: 0.4573175146891053\t             Validation accuracy: 95.66999816894531\t             LR:0.005\n",
      "Epoch: 51\n",
      "Training Loss: 1.3257403137333104\t             Training accuracy: 51.686668395996094\n",
      "Validation Loss: 0.4137914163671481\t             Validation accuracy: 95.25\t             LR:0.005\n",
      "Epoch: 52\n",
      "Training Loss: 1.3217536828029892\t             Training accuracy: 51.775001525878906\n",
      "Validation Loss: 0.4434021399089485\t             Validation accuracy: 95.73999786376953\t             LR:0.005\n",
      "Epoch: 53\n",
      "Training Loss: 1.3298662351265644\t             Training accuracy: 51.30666732788086\n",
      "Validation Loss: 0.42935275518970123\t             Validation accuracy: 95.75\t             LR:0.005\n",
      "Epoch: 54\n",
      "Training Loss: 1.3241888753005437\t             Training accuracy: 51.53666687011719\n",
      "Validation Loss: 0.4317939199839428\t             Validation accuracy: 95.77999877929688\t             LR:0.005\n",
      "Epoch: 55\n",
      "Training Loss: 1.3266145636532098\t             Training accuracy: 51.5433349609375\n",
      "Validation Loss: 0.45236536518783327\t             Validation accuracy: 95.80999755859375\t             LR:0.005\n",
      "Epoch: 56\n",
      "Training Loss: 1.3276492097357442\t             Training accuracy: 51.53666687011719\n",
      "Validation Loss: 0.44191298961259756\t             Validation accuracy: 95.79000091552734\t             LR:0.005\n",
      "Epoch: 57\n",
      "Training Loss: 1.3302255401224978\t             Training accuracy: 51.44333267211914\n",
      "Validation Loss: 0.46077313933782515\t             Validation accuracy: 96.0\t             LR:0.005\n",
      "Epoch: 58\n",
      "Training Loss: 1.316403180043072\t             Training accuracy: 51.959999084472656\n",
      "Validation Loss: 0.4987243220304987\t             Validation accuracy: 95.72000122070312\t             LR:0.005\n",
      "Epoch: 59\n",
      "Training Loss: 1.3288309713289428\t             Training accuracy: 51.358333587646484\n",
      "Validation Loss: 0.41839847148983345\t             Validation accuracy: 95.70999908447266\t             LR:0.005\n",
      "Epoch: 60\n",
      "Training Loss: 1.3266812888925263\t             Training accuracy: 51.48666763305664\n",
      "Validation Loss: 0.4430545628260655\t             Validation accuracy: 95.8499984741211\t             LR:0.005\n",
      "Epoch: 61\n",
      "Training Loss: 1.3104599431506607\t             Training accuracy: 51.723331451416016\n",
      "Validation Loss: 0.44027358160656727\t             Validation accuracy: 96.19000244140625\t             LR:0.0005\n",
      "Epoch: 62\n",
      "Training Loss: 1.308382743647866\t             Training accuracy: 51.82666778564453\n",
      "Validation Loss: 0.44295536418249654\t             Validation accuracy: 96.18000030517578\t             LR:0.0005\n",
      "Epoch: 63\n",
      "Training Loss: 1.304967514487472\t             Training accuracy: 51.935001373291016\n",
      "Validation Loss: 0.40459132479254606\t             Validation accuracy: 96.31999969482422\t             LR:0.0005\n",
      "Epoch: 64\n",
      "Training Loss: 1.3066031958884015\t             Training accuracy: 51.81999969482422\n",
      "Validation Loss: 0.4108888232594083\t             Validation accuracy: 96.25\t             LR:0.0005\n",
      "Epoch: 65\n",
      "Training Loss: 1.298087611699155\t             Training accuracy: 52.29999923706055\n",
      "Validation Loss: 0.43188707729813397\t             Validation accuracy: 96.30999755859375\t             LR:0.0005\n",
      "Epoch: 66\n",
      "Training Loss: 1.3030866875068974\t             Training accuracy: 51.97666549682617\n",
      "Validation Loss: 0.451380592432751\t             Validation accuracy: 96.25\t             LR:0.0005\n",
      "Epoch: 67\n",
      "Training Loss: 1.2999447066900827\t             Training accuracy: 51.970001220703125\n",
      "Validation Loss: 0.4138055447560207\t             Validation accuracy: 96.30000305175781\t             LR:0.0005\n",
      "Epoch: 68\n",
      "Training Loss: 1.304655778255544\t             Training accuracy: 51.99166488647461\n",
      "Validation Loss: 0.44859882942430535\t             Validation accuracy: 96.2699966430664\t             LR:0.0005\n",
      "Epoch: 69\n",
      "Training Loss: 1.3011487123808627\t             Training accuracy: 51.9566650390625\n",
      "Validation Loss: 0.4250364052072452\t             Validation accuracy: 96.23999786376953\t             LR:0.0005\n",
      "Epoch: 70\n",
      "Training Loss: 1.298010630902451\t             Training accuracy: 51.98833465576172\n",
      "Validation Loss: 0.4392773943721868\t             Validation accuracy: 96.30999755859375\t             LR:0.0005\n",
      "Epoch: 71\n",
      "Training Loss: 1.2972677010081723\t             Training accuracy: 52.025001525878906\n",
      "Validation Loss: 0.4254068507320562\t             Validation accuracy: 96.33000183105469\t             LR:0.0005\n",
      "Epoch: 72\n",
      "Training Loss: 1.294194726928719\t             Training accuracy: 52.121665954589844\n",
      "Validation Loss: 0.42792534847168406\t             Validation accuracy: 96.33999633789062\t             LR:0.0005\n",
      "Epoch: 73\n",
      "Training Loss: 1.2988796556300954\t             Training accuracy: 52.220001220703125\n",
      "Validation Loss: 0.4329059888982469\t             Validation accuracy: 96.30000305175781\t             LR:0.0005\n",
      "Epoch: 74\n",
      "Training Loss: 1.3071918835136682\t             Training accuracy: 51.73833465576172\n",
      "Validation Loss: 0.44009299718650285\t             Validation accuracy: 96.2699966430664\t             LR:0.0005\n",
      "Epoch: 75\n",
      "Training Loss: 1.294782463548534\t             Training accuracy: 52.121665954589844\n",
      "Validation Loss: 0.42995401172880915\t             Validation accuracy: 96.33000183105469\t             LR:0.0005\n",
      "Epoch: 76\n",
      "Training Loss: 1.2872131486564302\t             Training accuracy: 52.48833465576172\n",
      "Validation Loss: 0.4203845380218166\t             Validation accuracy: 96.25\t             LR:0.0005\n",
      "Epoch: 77\n",
      "Training Loss: 1.296352293509156\t             Training accuracy: 51.90666580200195\n",
      "Validation Loss: 0.43494798916919974\t             Validation accuracy: 96.30999755859375\t             LR:0.0005\n",
      "Epoch: 78\n",
      "Training Loss: 1.304588792166476\t             Training accuracy: 51.87666702270508\n",
      "Validation Loss: 0.4253181203915055\t             Validation accuracy: 96.30000305175781\t             LR:0.0005\n",
      "Epoch: 79\n",
      "Training Loss: 1.2959125639279006\t             Training accuracy: 52.16666793823242\n",
      "Validation Loss: 0.4507118322097572\t             Validation accuracy: 96.30000305175781\t             LR:0.0005\n",
      "Epoch: 80\n",
      "Training Loss: 1.2910258869118274\t             Training accuracy: 52.34000015258789\n",
      "Validation Loss: 0.4032298521061612\t             Validation accuracy: 96.2300033569336\t             LR:0.0005\n",
      "Epoch: 81\n",
      "Training Loss: 1.304207982094303\t             Training accuracy: 51.83833312988281\n",
      "Validation Loss: 0.4239736748918606\t             Validation accuracy: 96.19000244140625\t             LR:0.0005\n",
      "Epoch: 82\n",
      "Training Loss: 1.293285076488564\t             Training accuracy: 52.29833221435547\n",
      "Validation Loss: 0.4287838019952653\t             Validation accuracy: 96.25\t             LR:0.0005\n",
      "Epoch: 83\n",
      "Training Loss: 1.2908086889842425\t             Training accuracy: 52.3849983215332\n",
      "Validation Loss: 0.46721921367630076\t             Validation accuracy: 96.27999877929688\t             LR:0.0005\n",
      "Epoch: 84\n",
      "Training Loss: 1.3031172585258606\t             Training accuracy: 51.856666564941406\n",
      "Validation Loss: 0.4240972611365045\t             Validation accuracy: 96.22000122070312\t             LR:0.0005\n",
      "Epoch: 85\n",
      "Training Loss: 1.3047118274006508\t             Training accuracy: 51.768333435058594\n",
      "Validation Loss: 0.42935724936093494\t             Validation accuracy: 96.23999786376953\t             LR:0.0005\n",
      "Epoch: 86\n",
      "Training Loss: 1.2907103124712067\t             Training accuracy: 52.255001068115234\n",
      "Validation Loss: 0.4179135971957711\t             Validation accuracy: 96.33999633789062\t             LR:0.0005\n",
      "Epoch: 87\n",
      "Training Loss: 1.2934228790594315\t             Training accuracy: 52.2400016784668\n",
      "Validation Loss: 0.4153349642540998\t             Validation accuracy: 96.2699966430664\t             LR:0.0005\n",
      "Epoch: 88\n",
      "Training Loss: 1.291261734230432\t             Training accuracy: 52.22999954223633\n",
      "Validation Loss: 0.40630399440504184\t             Validation accuracy: 96.29000091552734\t             LR:0.0005\n",
      "Epoch: 89\n",
      "Training Loss: 1.2943624371785853\t             Training accuracy: 52.11333465576172\n",
      "Validation Loss: 0.4309770628145546\t             Validation accuracy: 96.2699966430664\t             LR:0.0005\n",
      "Epoch: 90\n",
      "Training Loss: 1.2911655998179146\t             Training accuracy: 52.2783317565918\n",
      "Validation Loss: 0.43557057667310073\t             Validation accuracy: 96.23999786376953\t             LR:0.0005\n",
      "Epoch: 91\n",
      "Training Loss: 1.2940077456965375\t             Training accuracy: 52.28666687011719\n",
      "Validation Loss: 0.3896871006033223\t             Validation accuracy: 96.16999816894531\t             LR:0.0005\n",
      "Epoch: 92\n",
      "Training Loss: 1.29302932115506\t             Training accuracy: 52.29499816894531\n",
      "Validation Loss: 0.42999519853834894\t             Validation accuracy: 96.30999755859375\t             LR:0.0005\n",
      "Epoch: 93\n",
      "Training Loss: 1.3010974606471275\t             Training accuracy: 51.926666259765625\n",
      "Validation Loss: 0.42487027330003724\t             Validation accuracy: 96.18000030517578\t             LR:0.0005\n",
      "Epoch: 94\n",
      "Training Loss: 1.284210542943686\t             Training accuracy: 52.6349983215332\n",
      "Validation Loss: 0.41389701833390885\t             Validation accuracy: 96.26000213623047\t             LR:0.0005\n",
      "Epoch: 95\n",
      "Training Loss: 1.2879127145830247\t             Training accuracy: 52.268333435058594\n",
      "Validation Loss: 0.4156532943438572\t             Validation accuracy: 96.23999786376953\t             LR:0.0005\n",
      "Epoch: 96\n",
      "Training Loss: 1.287953440949861\t             Training accuracy: 52.51333236694336\n",
      "Validation Loss: 0.42366146424393747\t             Validation accuracy: 96.2699966430664\t             LR:0.0005\n",
      "Epoch: 97\n",
      "Training Loss: 1.2988912942948372\t             Training accuracy: 51.86666488647461\n",
      "Validation Loss: 0.4033382079403871\t             Validation accuracy: 96.19000244140625\t             LR:0.0005\n",
      "Epoch: 98\n",
      "Training Loss: 1.2855975496997711\t             Training accuracy: 52.311668395996094\n",
      "Validation Loss: 0.41784298438934764\t             Validation accuracy: 96.30000305175781\t             LR:0.0005\n",
      "Epoch: 99\n",
      "Training Loss: 1.2857392511006867\t             Training accuracy: 52.4566650390625\n",
      "Validation Loss: 0.44061767532946955\t             Validation accuracy: 96.19999694824219\t             LR:0.0005\n",
      "Epoch: 100\n",
      "Training Loss: 1.293255859664254\t             Training accuracy: 52.2066650390625\n",
      "Validation Loss: 0.4346582131211165\t             Validation accuracy: 96.20999908447266\t             LR:0.0005\n",
      "--- 999.3421761989594 seconds ---\n",
      "Finished Training\n"
     ]
    }
   ],
   "source": [
    "start_time = time.time()\n",
    "for epoch in range(num_epochs):\n",
    "    print(f'Epoch: {epoch+1}')\n",
    "\n",
    "    #get the current learning rate\n",
    "    curr_lr = optimizer.param_groups[0]['lr']\n",
    "\n",
    "    train()\n",
    "    test()\n",
    "\n",
    "    epochs.append(epoch)\n",
    "\n",
    "\n",
    "\n",
    "    #step the learning rate scheduler\n",
    "    scheduler.step()\n",
    "\n",
    "\n",
    "print(\"--- %s seconds ---\" % (time.time() - start_time))\n",
    "print('Finished Training')\n"
   ]
  },
  {
   "cell_type": "code",
   "execution_count": 46,
   "metadata": {
    "collapsed": false,
    "jupyter": {
     "outputs_hidden": false
    },
    "pycharm": {
     "name": "#%%\n"
    }
   },
   "outputs": [
    {
     "name": "stdout",
     "output_type": "stream",
     "text": [
      "Accuracy of the network on the 10000 test images: 96.21 %\n"
     ]
    }
   ],
   "source": [
    "with torch.no_grad():\n",
    "    n_correct = 0\n",
    "    n_samples = 0\n",
    "    for images, labels in test_loader:\n",
    "        images = images.reshape(-1, 28*28).to(device)\n",
    "        labels = labels.to(device)\n",
    "        outputs = model(images)\n",
    "        # max returns (value ,index)\n",
    "        _, predicted = torch.max(outputs.data, 1)\n",
    "        n_samples += labels.size(0)\n",
    "        n_correct += (predicted == labels).sum().item()\n",
    "\n",
    "    acc = 100.0 * n_correct / n_samples\n",
    "    print(f'Accuracy of the network on the 10000 test images: {acc} %')\n",
    "\n"
   ]
  },
  {
   "cell_type": "code",
   "execution_count": 47,
   "outputs": [],
   "source": [
    "def plotLosses(epochs, Loss, title):\n",
    "    plt.figure(figsize=(10,6))\n",
    "    plt.title(title)\n",
    "    plt.plot(epochs, Loss, label = \"Loss\")\n",
    "    plt.legend()\n",
    "    plt.xlabel(\"Epochs\")\n",
    "    plt.ylabel(\"Loss\")\n",
    "    plt.savefig(title + '.png')"
   ],
   "metadata": {
    "collapsed": false,
    "pycharm": {
     "name": "#%%\n"
    }
   }
  },
  {
   "cell_type": "code",
   "execution_count": 48,
   "outputs": [
    {
     "data": {
      "text/plain": "<Figure size 720x432 with 1 Axes>",
      "image/png": "[encoded data removed]"
     },
     "metadata": {},
     "output_type": "display_data"
    },
    {
     "data": {
      "text/plain": "<Figure size 720x432 with 1 Axes>",
      "image/png": "[encoded data removed]"
     },
     "metadata": {},
     "output_type": "display_data"
    }
   ],
   "source": [
    "\n",
    "#plot combo loss diagrams\n",
    "plt.figure(figsize=(10,6))\n",
    "#plt.title(f'FCN_batchnorm2-{opt} lr:{learning_rate} acc:{acc} epochs-{num_epochs}') #-mac\n",
    "plt.title(f'FCN_batchnorm2-{opt} lr:{learning_rate} acc-{acc} epochs-{num_epochs}') #-Win\n",
    "\n",
    "plt.plot(epochs, train_loss_average, label = \"Training loss\")\n",
    "plt.plot(epochs, valid_loss_average, label = 'Validation loss')\n",
    "plt.legend()\n",
    "plt.xlabel(\"Epochs\")\n",
    "plt.ylabel(\"Loss\")\n",
    "#plt.savefig(f'FCN_batchnorm2-Loss-{opt} lr:{learning_rate} acc:{acc}.png' epochs-{num_epochs}) #-mac\n",
    "plt.savefig(f'FCN_batchnorm2-Loss-{opt} lr-{learning_rate} acc-{acc} epochs-{num_epochs}.png') #-win\n",
    "\n",
    "#plot validation accuracies\n",
    "plt.figure(figsize=(10,6))\n",
    "#plt.title(f'FCN_batchnorm2-{opt} lr:{learning_rate} acc:{acc} epochs-{num_epochs}') #-mac\n",
    "plt.title(f'FCN_batchnorm2-{opt} lr-{learning_rate} acc-{acc} epochs-{num_epochs}') #-win\n",
    "plt.plot(epochs, train_accuracy, label = \"Training accuracy\")\n",
    "plt.plot(epochs, valid_accuracy, label = 'Validation accuracy')\n",
    "plt.legend()\n",
    "plt.xlabel(\"Epoch\")\n",
    "plt.ylabel(\"Accuracy\")\n",
    "#plt.savefig(f'FCN_batchnorm2-Accuracy-{opt} lr:{learning_rate} acc:{acc}.png' epochs-{num_epochs}) #-mac\n",
    "plt.savefig(f'FCN_batchnorm2-Accuracy-{opt} lr-{learning_rate} acc-{acc} epochs-{num_epochs}.png') #-win\n",
    "\n",
    "\n",
    "#PATH = f'./FCN_batchnorm2-{opt}-lr:{learning_rate}-acc:{acc} epochs-{num_epochs}.pth' #-mac\n",
    "PATH = f'./FCN_batchnorm2-{opt}-lr-{learning_rate}-acc-{acc} epochs-{num_epochs}.pth' #-win\n",
    "\n",
    "torch.save(model.state_dict(), PATH)"
   ],
   "metadata": {
    "collapsed": false,
    "pycharm": {
     "name": "#%%\n"
    }
   }
  },
  {
   "cell_type": "code",
   "execution_count": 49,
   "outputs": [
    {
     "data": {
      "text/plain": "[1.7159433364868164,\n 1.484554648399353,\n 1.449101209640503,\n 1.439804196357727,\n 1.421369194984436,\n 1.4057847261428833,\n 1.4048625230789185,\n 1.404550552368164,\n 1.396597146987915,\n 1.3898993730545044,\n 1.390846848487854,\n 1.3790209293365479,\n 1.3795952796936035,\n 1.374894618988037,\n 1.3627991676330566,\n 1.366389513015747,\n 1.3661600351333618,\n 1.3586422204971313,\n 1.3617329597473145,\n 1.3654758930206299,\n 1.3481746912002563,\n 1.3527886867523193,\n 1.3427939414978027,\n 1.3543421030044556,\n 1.3436689376831055,\n 1.3408160209655762,\n 1.3470642566680908,\n 1.3424513339996338,\n 1.339269995689392,\n 1.3445576429367065,\n 1.3549004793167114,\n 1.3374598026275635,\n 1.3363877534866333,\n 1.3340678215026855,\n 1.3301663398742676,\n 1.330766201019287,\n 1.323887586593628,\n 1.339508056640625,\n 1.3377268314361572,\n 1.3307119607925415,\n 1.333998680114746,\n 1.3272992372512817,\n 1.331495761871338,\n 1.329869270324707,\n 1.3208973407745361,\n 1.3259167671203613,\n 1.3253443241119385,\n 1.324213981628418,\n 1.3283873796463013,\n 1.3236275911331177,\n 1.3257403373718262,\n 1.321753740310669,\n 1.3298662900924683,\n 1.3241888284683228,\n 1.3266146183013916,\n 1.3276492357254028,\n 1.3302255868911743,\n 1.3164031505584717,\n 1.3288309574127197,\n 1.3266812562942505,\n 1.3104599714279175,\n 1.3083827495574951,\n 1.3049675226211548,\n 1.306603193283081,\n 1.2980875968933105,\n 1.3030866384506226,\n 1.2999447584152222,\n 1.3046557903289795,\n 1.3011486530303955,\n 1.2980105876922607,\n 1.2972676753997803,\n 1.2941946983337402,\n 1.298879623413086,\n 1.3071918487548828,\n 1.2947825193405151,\n 1.2872132062911987,\n 1.2963522672653198,\n 1.304588794708252,\n 1.2959126234054565,\n 1.2910258769989014,\n 1.3042080402374268,\n 1.2932851314544678,\n 1.2908086776733398,\n 1.303117275238037,\n 1.3047118186950684,\n 1.2907103300094604,\n 1.2934229373931885,\n 1.2912617921829224,\n 1.2943624258041382,\n 1.2911655902862549,\n 1.2940077781677246,\n 1.2930293083190918,\n 1.3010975122451782,\n 1.2842105627059937,\n 1.2879127264022827,\n 1.287953495979309,\n 1.298891305923462,\n 1.285597562789917,\n 1.2857393026351929,\n 1.2932558059692383]"
     },
     "execution_count": 49,
     "metadata": {},
     "output_type": "execute_result"
    }
   ],
   "source": [
    "train_loss_average.tolist()\n"
   ],
   "metadata": {
    "collapsed": false,
    "pycharm": {
     "name": "#%%\n"
    }
   }
  },
  {
   "cell_type": "code",
   "execution_count": 51,
   "metadata": {
    "collapsed": false,
    "jupyter": {
     "outputs_hidden": false
    },
    "pycharm": {
     "name": "#%%\n"
    }
   },
   "outputs": [
    {
     "ename": "TypeError",
     "evalue": "can only concatenate list (not \"int\") to list",
     "output_type": "error",
     "traceback": [
      "\u001B[0;31m---------------------------------------------------------------------------\u001B[0m",
      "\u001B[0;31mTypeError\u001B[0m                                 Traceback (most recent call last)",
      "\u001B[0;32m/var/folders/dr/704qjz3n21lgqk009dttw33w0000gn/T/ipykernel_43033/343760735.py\u001B[0m in \u001B[0;36m<module>\u001B[0;34m\u001B[0m\n\u001B[1;32m      1\u001B[0m \u001B[0;32mfrom\u001B[0m \u001B[0mpathlib\u001B[0m \u001B[0;32mimport\u001B[0m \u001B[0mPath\u001B[0m\u001B[0;34m\u001B[0m\u001B[0;34m\u001B[0m\u001B[0m\n\u001B[1;32m      2\u001B[0m \u001B[0;34m\u001B[0m\u001B[0m\n\u001B[0;32m----> 3\u001B[0;31m \u001B[0mdf\u001B[0m \u001B[0;34m=\u001B[0m \u001B[0mpd\u001B[0m\u001B[0;34m.\u001B[0m\u001B[0mDataFrame\u001B[0m\u001B[0;34m(\u001B[0m\u001B[0mtrain_loss_average\u001B[0m\u001B[0;34m.\u001B[0m\u001B[0mtolist\u001B[0m\u001B[0;34m(\u001B[0m\u001B[0;34m)\u001B[0m\u001B[0;34m,\u001B[0m \u001B[0mcolumns\u001B[0m\u001B[0;34m=\u001B[0m\u001B[0;34m[\u001B[0m\u001B[0;34m'train_loss'\u001B[0m\u001B[0;34m]\u001B[0m\u001B[0;34m,\u001B[0m \u001B[0mindex\u001B[0m\u001B[0;34m=\u001B[0m\u001B[0;34m[\u001B[0m\u001B[0mi\u001B[0m \u001B[0;32mfor\u001B[0m \u001B[0mi\u001B[0m \u001B[0;32min\u001B[0m \u001B[0mrange\u001B[0m\u001B[0;34m(\u001B[0m\u001B[0;36m1\u001B[0m\u001B[0;34m,\u001B[0m\u001B[0mepochs\u001B[0m\u001B[0;34m+\u001B[0m\u001B[0;36m1\u001B[0m\u001B[0;34m)\u001B[0m\u001B[0;34m]\u001B[0m\u001B[0;34m)\u001B[0m\u001B[0;34m\u001B[0m\u001B[0;34m\u001B[0m\u001B[0m\n\u001B[0m\u001B[1;32m      4\u001B[0m \u001B[0mfilepath\u001B[0m \u001B[0;34m=\u001B[0m \u001B[0mPath\u001B[0m\u001B[0;34m(\u001B[0m\u001B[0;34mf'ResultsData/trainloss/test{ModelName}-{opt}-{learning_rate}-{acc}.csv'\u001B[0m\u001B[0;34m)\u001B[0m\u001B[0;34m\u001B[0m\u001B[0;34m\u001B[0m\u001B[0m\n\u001B[1;32m      5\u001B[0m \u001B[0mfilepath\u001B[0m\u001B[0;34m.\u001B[0m\u001B[0mparent\u001B[0m\u001B[0;34m.\u001B[0m\u001B[0mmkdir\u001B[0m\u001B[0;34m(\u001B[0m\u001B[0mparents\u001B[0m\u001B[0;34m=\u001B[0m\u001B[0;32mTrue\u001B[0m\u001B[0;34m,\u001B[0m \u001B[0mexist_ok\u001B[0m\u001B[0;34m=\u001B[0m\u001B[0;32mTrue\u001B[0m\u001B[0;34m)\u001B[0m\u001B[0;34m\u001B[0m\u001B[0;34m\u001B[0m\u001B[0m\n",
      "\u001B[0;31mTypeError\u001B[0m: can only concatenate list (not \"int\") to list"
     ]
    }
   ],
   "source": [
    "from pathlib import Path\n",
    "\n",
    "df = pd.DataFrame(train_loss_average.tolist(), columns=['train_loss'], index=[i for i in range(1,epochs+1)])\n",
    "filepath = Path(f'ResultsData/trainloss/test{ModelName}-{opt}-{learning_rate}-{acc}.csv')\n",
    "filepath.parent.mkdir(parents=True, exist_ok=True)\n",
    "df.to_csv(filepath)\n",
    "\n",
    "df = pd.DataFrame(valid_loss_average.tolist(), columns=['valid_loss'], index=[i for i in range(1,epochs+1)])\n",
    "filepath = Path(f'ResultsData/validloss/test{ModelName}-{opt}-{learning_rate}-{acc}.csv')\n",
    "filepath.parent.mkdir(parents=True, exist_ok=True)\n",
    "df.to_csv(filepath)\n",
    "\n",
    "df = pd.DataFrame(train_accuracy.tolist(), columns=['train_accuracy'], index=[i for i in range(1,epochs+1)])\n",
    "filepath = Path(f'ResultsData/trainacc/test{ModelName}-{opt}-{learning_rate}-{acc}.csv')\n",
    "filepath.parent.mkdir(parents=True, exist_ok=True)\n",
    "df.to_csv(filepath)\n",
    "\n",
    "df = pd.DataFrame(valid_accuracy.tolist(), columns=['valid_accuracy'], index=[i for i in range(1,epochs+1)])\n",
    "filepath = Path(f'ResultsData/validacc/test{ModelName}-{opt}-{learning_rate}-{acc}.csv')\n",
    "filepath.parent.mkdir(parents=True, exist_ok=True)\n",
    "df.to_csv(filepath)"
   ]
  },
  {
   "cell_type": "code",
   "execution_count": null,
   "metadata": {
    "collapsed": false,
    "jupyter": {
     "outputs_hidden": false
    },
    "pycharm": {
     "name": "#%%\n"
    }
   },
   "outputs": [],
   "source": [
    "#plot the loss diagrams\n",
    "#mac\n",
    "#plotLosses(epochs, train_loss_average, f'FCN_batchnorm2-{opt}_train_loss lr:{learning_rate} acc:{acc} epochs-{num_epochs}')\n",
    "#plotLosses(epochs, valid_loss_average, f'FCN_batchnorm2-{opt}_valid_loss lr:{learning_rate} acc:{acc} epochs-{num_epochs}')\n",
    "#win\n",
    "plotLosses(epochs, train_loss_average, f'FCN_batchnorm2-{opt}_train_loss lr-{learning_rate} acc-{acc} epochs-{num_epochs}')\n",
    "plotLosses(epochs, valid_loss_average, f'FCN_batchnorm2-{opt}_valid_loss lr-{learning_rate} acc-{acc} epochs-{num_epochs}')\n",
    "\n",
    "#plot combo loss diagrams\n",
    "plt.figure(figsize=(10,6))\n",
    "#plt.title(f'FCN_batchnorm2-{opt} lr:{learning_rate} acc:{acc} epochs-{num_epochs}') #-mac\n",
    "plt.title(f'FCN_batchnorm2-{opt} lr:{learning_rate} acc-{acc} epochs-{num_epochs}') #-Win\n",
    "\n",
    "plt.plot(epochs, train_loss_average, label = \"Training loss\")\n",
    "plt.plot(epochs, valid_loss_average, label = 'Validation loss')\n",
    "plt.legend()\n",
    "plt.xlabel(\"Epochs\")\n",
    "plt.ylabel(\"Loss\")\n",
    "#plt.savefig(f'FCN_batchnorm2-Loss-{opt} lr:{learning_rate} acc:{acc}.png' epochs-{num_epochs}) #-mac\n",
    "plt.savefig(f'FCN_batchnorm2-Loss-{opt} lr-{learning_rate} acc-{acc} epochs-{num_epochs}.png') #-win\n",
    "\n",
    "#plot validation accuracies\n",
    "plt.figure(figsize=(10,6))\n",
    "#plt.title(f'FCN_batchnorm2-{opt} lr:{learning_rate} acc:{acc} epochs-{num_epochs}') #-mac\n",
    "plt.title(f'FCN_batchnorm2-{opt} lr-{learning_rate} acc-{acc} epochs-{num_epochs}') #-win\n",
    "plt.plot(epochs, train_accuracy, label = \"Training accuracy\")\n",
    "plt.plot(epochs, valid_accuracy, label = 'Validation accuracy')\n",
    "plt.legend()\n",
    "plt.xlabel(\"Epoch\")\n",
    "plt.ylabel(\"Accuracy\")\n",
    "#plt.savefig(f'FCN_batchnorm2-Accuracy-{opt} lr:{learning_rate} acc:{acc}.png' epochs-{num_epochs}) #-mac\n",
    "plt.savefig(f'FCN_batchnorm2-Accuracy-{opt} lr-{learning_rate} acc-{acc} epochs-{num_epochs}.png') #-win\n",
    "\n",
    "\n",
    "#PATH = f'./FCN_batchnorm2-{opt}-lr:{learning_rate}-acc:{acc} epochs-{num_epochs}.pth' #-mac\n",
    "PATH = f'./FCN_batchnorm2-{opt}-lr-{learning_rate}-acc-{acc} epochs-{num_epochs}.pth' #-win\n",
    "\n",
    "torch.save(model.state_dict(), PATH)"
   ]
  },
  {
   "cell_type": "code",
   "execution_count": null,
   "metadata": {
    "collapsed": false,
    "jupyter": {
     "outputs_hidden": false
    },
    "pycharm": {
     "name": "#%%\n"
    }
   },
   "outputs": [],
   "source": [
    "\n",
    "\n",
    "\n"
   ]
  }
 ],
 "metadata": {
  "kernelspec": {
   "display_name": "Python 3 (ipykernel)",
   "language": "python",
   "name": "python3"
  },
  "language_info": {
   "codemirror_mode": {
    "name": "ipython",
    "version": 3
   },
   "file_extension": ".py",
   "mimetype": "text/x-python",
   "name": "python",
   "nbconvert_exporter": "python",
   "pygments_lexer": "ipython3",
   "version": "3.8.3"
  }
 },
 "nbformat": 4,
 "nbformat_minor": 4
}
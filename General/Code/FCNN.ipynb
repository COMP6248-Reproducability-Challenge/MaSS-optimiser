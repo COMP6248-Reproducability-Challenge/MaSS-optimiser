{
 "cells": [
  {
   "cell_type": "code",
   "execution_count": 1,
   "metadata": {
    "collapsed": false,
    "jupyter": {
     "outputs_hidden": false
    },
    "pycharm": {
     "name": "#%%\n"
    }
   },
   "outputs": [],
   "source": [
    "import torch\n",
    "from torch import nn\n",
    "import torchvision\n",
    "import pandas as pd\n",
    "import torchvision.transforms as transforms\n",
    "import matplotlib.pyplot as plt\n",
    "import numpy as np\n",
    "import ssl\n",
    "import seaborn as sns\n",
    "import time\n",
    "from MaSS import MaSS\n",
    "import torchbearer\n",
    "\n",
    "sns.set_theme()\n",
    "ssl._create_default_https_context = ssl._create_unverified_context"
   ]
  },
  {
   "cell_type": "code",
   "execution_count": 2,
   "metadata": {
    "collapsed": false,
    "jupyter": {
     "outputs_hidden": false
    },
    "pycharm": {
     "name": "#%%\n"
    }
   },
   "outputs": [],
   "source": [
    "# Device configuration\n",
    "device = torch.device('cuda' if torch.cuda.is_available() else 'cpu')"
   ]
  },
  {
   "cell_type": "code",
   "execution_count": 3,
   "metadata": {
    "collapsed": false,
    "jupyter": {
     "outputs_hidden": false
    },
    "pycharm": {
     "name": "#%%\n"
    }
   },
   "outputs": [],
   "source": [
    "# Hyper-parameters\n",
    "num_epochs = 50\n",
    "batch_size = 64\n",
    "learning_rate = 0.01"
   ]
  },
  {
   "cell_type": "code",
   "execution_count": 4,
   "metadata": {
    "collapsed": false,
    "jupyter": {
     "outputs_hidden": false
    },
    "pycharm": {
     "name": "#%%\n"
    }
   },
   "outputs": [
    {
     "data": {
      "image/png": "[encoded data removed]",
      "text/plain": [
       "<Figure size 432x288 with 1 Axes>"
      ]
     },
     "metadata": {},
     "output_type": "display_data"
    }
   ],
   "source": [
    "# dataset has PILImage images of range [0, 1].\n",
    "# We transform them to Tensors of normalized range [-1, 1]\n",
    "'''\n",
    "transform = transforms.Compose(\n",
    "    [transforms.ToTensor(),\n",
    "     transforms.Normalize((0.5, 0.5, 0.5), (0.5, 0.5, 0.5))])\n",
    "'''\n",
    "transform = transforms.Compose([\n",
    "    transforms.ToTensor(),\n",
    "    transforms.Lambda(lambda x: x.view(-1)),\n",
    "])\n",
    "\n",
    "train_dataset = torchvision.datasets.MNIST(root='./data', train=True,\n",
    "                                        download=True, transform=transform)\n",
    "\n",
    "test_dataset = torchvision.datasets.MNIST(root='./data', train=False,\n",
    "                                       download=True, transform=transform)\n",
    "\n",
    "train_loader = torch.utils.data.DataLoader(train_dataset, batch_size=batch_size,\n",
    "                                          shuffle=True)\n",
    "\n",
    "test_loader = torch.utils.data.DataLoader(test_dataset, batch_size=batch_size,\n",
    "                                         shuffle=False)\n",
    "\n",
    "def imshow(img):\n",
    "    img = img / 2 + 0.5  # unnormalize\n",
    "    npimg = img.numpy()\n",
    "    plt.imshow(np.transpose(npimg, (1, 2, 0)))\n",
    "    plt.show()\n",
    "\n",
    "\n",
    "# get some random training images\n",
    "dataiter = iter(train_loader)\n",
    "images, labels = dataiter.next()\n",
    "\n",
    "# show images\n",
    "imshow(torchvision.utils.make_grid(images))"
   ]
  },
  {
   "cell_type": "code",
   "execution_count": 5,
   "metadata": {
    "collapsed": false,
    "jupyter": {
     "outputs_hidden": false
    },
    "pycharm": {
     "name": "#%%\n"
    }
   },
   "outputs": [],
   "source": [
    "class FCNClass(nn.Module):\n",
    "    def __init__(self):\n",
    "        # input: 784 Dimensional Vectors as input\n",
    "        super(FCNClass, self).__init__()\n",
    "\n",
    "        # layer 1 (784-100)\n",
    "        # Hidden Layer\n",
    "        # Dropout Layer with keep prob 0.5\n",
    "        self.hidden1 = nn.Sequential(\n",
    "                        nn.Linear(784, 100),\n",
    "                        nn.ReLU(),\n",
    "                        nn.Dropout(p=0.5)\n",
    "        )\n",
    "\n",
    "        # Layer 2 (100-100)\n",
    "        # Hidden Layer\n",
    "        # Dropout Layer with keep prob 0.5\n",
    "        self.hidden2 = nn.Sequential(\n",
    "                        nn.Linear(100, 100),\n",
    "                        nn.ReLU(),\n",
    "                        nn.Dropout(p=0.5)\n",
    "        )\n",
    "\n",
    "        # Layer 3 (100-100)\n",
    "        # Hidden Layer\n",
    "        # Dropout Layer with keep prob 0.5\n",
    "        self.hidden3 = nn.Sequential(\n",
    "                        nn.Linear(100, 100),\n",
    "                        nn.ReLU(),\n",
    "                        nn.Dropout(p=0.5)\n",
    "        )\n",
    "\n",
    "        # Layer 4 (100-10)\n",
    "        # Hidden Layer\n",
    "        # Dropout Layer with keep prob 0.5\n",
    "        self.output = nn.Sequential(\n",
    "                        nn.Linear(100, 10),\n",
    "                        nn.ReLU(),\n",
    "                        nn.Dropout(p=0.5)\n",
    "        )\n",
    "        # 10 softmax activated output neurons\n",
    "        self.outputLayer = nn.Softmax(dim=1)\n",
    "\n",
    "\n",
    "    def forward(self, x):\n",
    "        midLevel = self.hidden1(x)\n",
    "        midLevel = self.hidden2(midLevel)\n",
    "        midLevel = self.hidden3(midLevel)\n",
    "        output   = self.output(midLevel)\n",
    "        #activation = self.outputLayer(output)\n",
    "        return output\n"
   ]
  },
  {
   "cell_type": "code",
   "execution_count": 6,
   "metadata": {},
   "outputs": [],
   "source": [
    "class FCNClass_batch1(nn.Module):\n",
    "    def __init__(self):\n",
    "        # input: 784 Dimensional Vectors as input\n",
    "        super(FCNClass_batch1, self).__init__()\n",
    "\n",
    "        # layer 1 (784-100)\n",
    "        # Hidden Layer\n",
    "        # Dropout Layer with keep prob 0.5\n",
    "        self.hidden1 = nn.Sequential(\n",
    "                        nn.Linear(784, 100),\n",
    "                        nn.ReLU(),\n",
    "                        nn.Dropout(p=0.5)\n",
    "        )\n",
    "\n",
    "        # Layer 2 (100-100)\n",
    "        # Hidden Layer\n",
    "        # Dropout Layer with keep prob 0.5\n",
    "        self.hidden2 = nn.Sequential(\n",
    "                        nn.Linear(100, 100),\n",
    "                        nn.ReLU(),\n",
    "                        nn.Dropout(p=0.5)\n",
    "        )\n",
    "\n",
    "        # Layer 3 (100-100)\n",
    "        # Hidden Layer\n",
    "        # Dropout Layer with keep prob 0.5\n",
    "        self.hidden3 = nn.Sequential(\n",
    "                        nn.Linear(100, 100),\n",
    "                        nn.ReLU(),\n",
    "                        nn.Dropout(p=0.5)\n",
    "        )\n",
    "\n",
    "        # Layer 4 (100-10)\n",
    "        # Hidden Layer\n",
    "        # Dropout Layer with keep prob 0.5\n",
    "        self.output = nn.Sequential(\n",
    "                        nn.Linear(100, 10),\n",
    "                        nn.ReLU(),\n",
    "                        nn.Dropout(p=0.5)\n",
    "        )\n",
    "        # 10 softmax activated output neurons\n",
    "        self.outputLayer = nn.Softmax(dim=1)\n",
    "\n",
    "        \n",
    "        self.normised = nn.BatchNorm1d(num_features=10)\n",
    "\n",
    "\n",
    "    def forward(self, x):\n",
    "        midLevel = self.hidden1(x)\n",
    "        midLevel = self.hidden2(midLevel)\n",
    "        midLevel = self.hidden3(midLevel)\n",
    "        output   = self.output(midLevel)\n",
    "        normised = self.normised(output)\n",
    "        \n",
    "        return normised\n"
   ]
  },
  {
   "cell_type": "code",
   "execution_count": 7,
   "metadata": {},
   "outputs": [],
   "source": [
    "class FCNClass_batch2(nn.Module):\n",
    "    def __init__(self):\n",
    "        # input: 784 Dimensional Vectors as input\n",
    "        super(FCNClass_batch2, self).__init__()\n",
    "\n",
    "        # layer 1 (784-100)\n",
    "        # Hidden Layer\n",
    "        # Dropout Layer with keep prob 0.5\n",
    "        self.hidden1 = nn.Sequential(\n",
    "                        nn.Linear(784, 100),\n",
    "                        nn.ReLU(),\n",
    "                        nn.Dropout(p=0.5)\n",
    "        )\n",
    "\n",
    "        # Layer 2 (100-100)\n",
    "        # Hidden Layer\n",
    "        # Dropout Layer with keep prob 0.5\n",
    "        self.hidden2 = nn.Sequential(\n",
    "                        nn.Linear(100, 100),\n",
    "                        nn.ReLU(),\n",
    "                        nn.Dropout(p=0.5)\n",
    "        )\n",
    "\n",
    "        # Layer 3 (100-100)\n",
    "        # Hidden Layer\n",
    "        # Dropout Layer with keep prob 0.5\n",
    "        self.hidden3 = nn.Sequential(\n",
    "                        nn.Linear(100, 100),\n",
    "                        nn.ReLU(),\n",
    "                        nn.Dropout(p=0.5)\n",
    "        )\n",
    "        \n",
    "        self.normised = nn.BatchNorm1d(num_features=100)\n",
    "\n",
    "        # Layer 4 (100-10)\n",
    "        # Hidden Layer\n",
    "        # Dropout Layer with keep prob 0.5\n",
    "        self.output = nn.Sequential(\n",
    "                        nn.Linear(100, 10),\n",
    "                        nn.ReLU(),\n",
    "                        nn.Dropout(p=0.5)\n",
    "        )\n",
    "        \n",
    "        \n",
    "        # 10 softmax activated output neurons\n",
    "        self.outputLayer = nn.Softmax(dim=1)\n",
    "        \n",
    "\n",
    "    def forward(self, x):\n",
    "        midLevel = self.hidden1(x)\n",
    "        midLevel = self.hidden2(midLevel)\n",
    "        midLevel = self.hidden3(midLevel)\n",
    "        normised = self.normised(midLevel)\n",
    "        output   = self.output(normised)\n",
    "        return output\n"
   ]
  },
  {
   "cell_type": "code",
   "execution_count": 8,
   "metadata": {
    "collapsed": false,
    "jupyter": {
     "outputs_hidden": false
    },
    "pycharm": {
     "name": "#%%\n"
    }
   },
   "outputs": [],
   "source": [
    "#model = FCNClass().to(device)\n",
    "#model = FCNClass_batch1().to(device) # not great based on initial test\n",
    "model = FCNClass_batch2().to(device)\n",
    "ModelName = 'FCNBatchNorm'\n",
    "\n",
    "criterion = nn.CrossEntropyLoss()\n",
    "#optimizer = MaSS(model.parameters(), lr=learning_rate, alpha=0.05, kappa_t=3)\n",
    "#optimizer = torch.optim.SGD( model.parameters(), momentum = 0.9, lr=learning_rate, nesterov = True,)\n",
    "optimizer = torch.optim.Adam(model.parameters(), lr=learning_rate)\n",
    "opt = \"Adam\" # sgd,  nesterov and mass\n"
   ]
  },
  {
   "cell_type": "code",
   "execution_count": 9,
   "metadata": {
    "collapsed": false,
    "jupyter": {
     "outputs_hidden": false
    },
    "pycharm": {
     "name": "#%%\n"
    }
   },
   "outputs": [],
   "source": [
    "epochs = []\n",
    "n_total_steps = len(train_loader)\n",
    "train_loss_average = torch.zeros(num_epochs)\n",
    "valid_loss_average = torch.zeros(num_epochs)\n",
    "train_accuracy = torch.zeros(num_epochs)\n",
    "valid_accuracy = torch.zeros(num_epochs)\n",
    "scheduler = torch.optim.lr_scheduler.MultiStepLR(optimizer, milestones=[60,120], gamma=0.1)\n"
   ]
  },
  {
   "cell_type": "code",
   "execution_count": 10,
   "metadata": {
    "collapsed": false,
    "jupyter": {
     "outputs_hidden": false
    },
    "pycharm": {
     "name": "#%%\n"
    }
   },
   "outputs": [],
   "source": [
    "\n",
    "def train():\n",
    "\n",
    "    model.train()\n",
    "    running_train_loss = 0\n",
    "    correct = 0\n",
    "    total = 0\n",
    "\n",
    "    for i, (images, labels) in enumerate(train_loader):\n",
    "        images = images.to(device)\n",
    "        labels = labels.to(device)\n",
    "\n",
    "        # Forward pass\n",
    "        outputs = model(images)\n",
    "        train_step_loss = criterion(outputs, labels)\n",
    "\n",
    "        # Backward and optimize\n",
    "        optimizer.zero_grad()\n",
    "        train_step_loss.backward()\n",
    "        optimizer.step()\n",
    "\n",
    "        running_train_loss += train_step_loss.item()\n",
    "\n",
    "        #predictions\n",
    "        _, predicted = torch.max(outputs.data, 1)\n",
    "        total += labels.size(0)\n",
    "        correct += (predicted == labels).sum().item()\n",
    "\n",
    "    accuracy = 100.*correct/total\n",
    "\n",
    "    #get the training losses and accuracies\n",
    "    train_loss_average[epoch] = running_train_loss/len(train_loader)\n",
    "    train_accuracy[epoch] = accuracy\n",
    "\n",
    "    print(f'Training Loss: {running_train_loss/len(train_loader)}\\t \\\n",
    "            Training accuracy: {train_accuracy[epoch]}')\n"
   ]
  },
  {
   "cell_type": "code",
   "execution_count": 11,
   "metadata": {
    "collapsed": false,
    "jupyter": {
     "outputs_hidden": false
    },
    "pycharm": {
     "name": "#%%\n"
    }
   },
   "outputs": [],
   "source": [
    "def test():\n",
    "    model.eval()\n",
    "\n",
    "    running_valid_loss = 0\n",
    "    correct = 0\n",
    "    total = 0\n",
    "\n",
    "    #validation loop\n",
    "    with torch.no_grad():\n",
    "        for i, (images, labels) in enumerate(test_loader):\n",
    "            images = images.to(device)\n",
    "            labels = labels.to(device)\n",
    "\n",
    "            outputs = model(images)\n",
    "            valid_step_loss = criterion(outputs, labels)\n",
    "\n",
    "            running_valid_loss += valid_step_loss.item()\n",
    "\n",
    "            #predictions\n",
    "            _, predicted = torch.max(outputs.data, 1)\n",
    "            total += labels.size(0)\n",
    "            correct += (predicted == labels).sum().item()\n",
    "\n",
    "    accuracy = 100.*correct/total\n",
    "\n",
    "    #get the validation losses\n",
    "    valid_loss_average[epoch] = running_valid_loss/len(test_loader)\n",
    "    valid_accuracy[epoch] = accuracy\n",
    "\n",
    "\n",
    "    print(f'Validation Loss: {running_valid_loss/len(test_loader)}\\t \\\n",
    "            Validation accuracy: {valid_accuracy[epoch]}\\t \\\n",
    "            LR:{curr_lr}')"
   ]
  },
  {
   "cell_type": "code",
   "execution_count": 12,
   "metadata": {
    "collapsed": false,
    "jupyter": {
     "outputs_hidden": false
    },
    "pycharm": {
     "name": "#%%\n"
    }
   },
   "outputs": [
    {
     "name": "stdout",
     "output_type": "stream",
     "text": [
      "Epoch: 1\n",
      "Training Loss: 2.0542473613834584\t             Training accuracy: 20.786666870117188\n",
      "Validation Loss: 1.50965620150232\t             Validation accuracy: 46.790000915527344\t             LR:0.01\n",
      "Epoch: 2\n",
      "Training Loss: 1.8697750342171837\t             Training accuracy: 28.121665954589844\n",
      "Validation Loss: 1.3867607405231257\t             Validation accuracy: 48.45000076293945\t             LR:0.01\n",
      "Epoch: 3\n",
      "Training Loss: 1.833231170548559\t             Training accuracy: 28.683332443237305\n",
      "Validation Loss: 1.3686205399264195\t             Validation accuracy: 48.380001068115234\t             LR:0.01\n",
      "Epoch: 4\n",
      "Training Loss: 1.8284416529161336\t             Training accuracy: 28.655000686645508\n",
      "Validation Loss: 1.3715007343110006\t             Validation accuracy: 48.59000015258789\t             LR:0.01\n",
      "Epoch: 5\n",
      "Training Loss: 1.8211473610355402\t             Training accuracy: 28.851667404174805\n",
      "Validation Loss: 1.3506319948062775\t             Validation accuracy: 48.939998626708984\t             LR:0.01\n",
      "Epoch: 6\n",
      "Training Loss: 1.8198080655099995\t             Training accuracy: 28.748332977294922\n",
      "Validation Loss: 1.303639884587306\t             Validation accuracy: 48.939998626708984\t             LR:0.01\n",
      "Epoch: 7\n",
      "Training Loss: 1.8021090417020103\t             Training accuracy: 29.25666618347168\n",
      "Validation Loss: 1.3173510147507783\t             Validation accuracy: 49.119998931884766\t             LR:0.01\n",
      "Epoch: 8\n",
      "Training Loss: 1.8013562928638986\t             Training accuracy: 29.21666717529297\n",
      "Validation Loss: 1.3478450034834017\t             Validation accuracy: 48.90999984741211\t             LR:0.01\n",
      "Epoch: 9\n",
      "Training Loss: 1.8009596897849143\t             Training accuracy: 28.96666717529297\n",
      "Validation Loss: 1.3129627636283825\t             Validation accuracy: 49.25\t             LR:0.01\n",
      "Epoch: 10\n",
      "Training Loss: 1.8040985292208982\t             Training accuracy: 28.97833251953125\n",
      "Validation Loss: 1.29002380333129\t             Validation accuracy: 49.0\t             LR:0.01\n",
      "Epoch: 11\n",
      "Training Loss: 1.7874242446061646\t             Training accuracy: 29.329999923706055\n",
      "Validation Loss: 1.3011507509620326\t             Validation accuracy: 49.2599983215332\t             LR:0.01\n",
      "Epoch: 12\n",
      "Training Loss: 1.795254445787686\t             Training accuracy: 29.184999465942383\n",
      "Validation Loss: 1.266434395009545\t             Validation accuracy: 49.38999938964844\t             LR:0.01\n",
      "Epoch: 13\n",
      "Training Loss: 1.798073334099133\t             Training accuracy: 28.954999923706055\n",
      "Validation Loss: 1.3126810557523352\t             Validation accuracy: 49.16999816894531\t             LR:0.01\n",
      "Epoch: 14\n",
      "Training Loss: 1.795153708091931\t             Training accuracy: 29.05500030517578\n",
      "Validation Loss: 1.2406808851630824\t             Validation accuracy: 49.560001373291016\t             LR:0.01\n",
      "Epoch: 15\n",
      "Training Loss: 1.7862608094713581\t             Training accuracy: 29.361665725708008\n",
      "Validation Loss: 1.255572254111053\t             Validation accuracy: 49.40999984741211\t             LR:0.01\n",
      "Epoch: 16\n",
      "Training Loss: 1.7882967751417587\t             Training accuracy: 29.218334197998047\n",
      "Validation Loss: 1.267739572722441\t             Validation accuracy: 49.45000076293945\t             LR:0.01\n",
      "Epoch: 17\n",
      "Training Loss: 1.7878379587933961\t             Training accuracy: 29.213333129882812\n",
      "Validation Loss: 1.2583485230518754\t             Validation accuracy: 49.4900016784668\t             LR:0.01\n",
      "Epoch: 18\n",
      "Training Loss: 1.7810154447931725\t             Training accuracy: 29.428333282470703\n",
      "Validation Loss: 1.2811971671262365\t             Validation accuracy: 49.59000015258789\t             LR:0.01\n",
      "Epoch: 19\n",
      "Training Loss: 1.7817624501073792\t             Training accuracy: 29.47333335876465\n",
      "Validation Loss: 1.2663139275684479\t             Validation accuracy: 49.540000915527344\t             LR:0.01\n",
      "Epoch: 20\n",
      "Training Loss: 1.786386325033997\t             Training accuracy: 29.21666717529297\n",
      "Validation Loss: 1.2735914128601171\t             Validation accuracy: 49.63999938964844\t             LR:0.01\n",
      "Epoch: 21\n",
      "Training Loss: 1.7864232865223753\t             Training accuracy: 29.303333282470703\n",
      "Validation Loss: 1.2601009166924058\t             Validation accuracy: 49.66999816894531\t             LR:0.01\n",
      "Epoch: 22\n",
      "Training Loss: 1.7803193079128956\t             Training accuracy: 29.420000076293945\n",
      "Validation Loss: 1.276239934620584\t             Validation accuracy: 49.540000915527344\t             LR:0.01\n",
      "Epoch: 23\n",
      "Training Loss: 1.7834707793396418\t             Training accuracy: 29.420000076293945\n",
      "Validation Loss: 1.2721138270037948\t             Validation accuracy: 49.720001220703125\t             LR:0.01\n",
      "Epoch: 24\n",
      "Training Loss: 1.779105400479933\t             Training accuracy: 29.463333129882812\n",
      "Validation Loss: 1.2435810368531828\t             Validation accuracy: 49.65999984741211\t             LR:0.01\n",
      "Epoch: 25\n",
      "Training Loss: 1.7804385965058545\t             Training accuracy: 29.354999542236328\n",
      "Validation Loss: 1.2527943113047606\t             Validation accuracy: 49.5099983215332\t             LR:0.01\n",
      "Epoch: 26\n",
      "Training Loss: 1.7838031127254592\t             Training accuracy: 29.453332901000977\n",
      "Validation Loss: 1.2534043929379457\t             Validation accuracy: 49.790000915527344\t             LR:0.01\n",
      "Epoch: 27\n",
      "Training Loss: 1.7828804347306682\t             Training accuracy: 29.3700008392334\n",
      "Validation Loss: 1.2476082736519492\t             Validation accuracy: 49.79999923706055\t             LR:0.01\n",
      "Epoch: 28\n",
      "Training Loss: 1.780192024926387\t             Training accuracy: 29.40333366394043\n",
      "Validation Loss: 1.2316364589010833\t             Validation accuracy: 49.68000030517578\t             LR:0.01\n",
      "Epoch: 29\n",
      "Training Loss: 1.7746710875141087\t             Training accuracy: 29.635000228881836\n",
      "Validation Loss: 1.2546016653631902\t             Validation accuracy: 49.849998474121094\t             LR:0.01\n",
      "Epoch: 30\n",
      "Training Loss: 1.7711121650901176\t             Training accuracy: 29.53333282470703\n",
      "Validation Loss: 1.3157409490293759\t             Validation accuracy: 49.279998779296875\t             LR:0.01\n",
      "Epoch: 31\n",
      "Training Loss: 1.7795616284108111\t             Training accuracy: 29.434999465942383\n",
      "Validation Loss: 1.2741149705686388\t             Validation accuracy: 49.70000076293945\t             LR:0.01\n",
      "Epoch: 32\n",
      "Training Loss: 1.7927453141730985\t             Training accuracy: 29.014999389648438\n",
      "Validation Loss: 1.2662810144151093\t             Validation accuracy: 49.810001373291016\t             LR:0.01\n",
      "Epoch: 33\n",
      "Training Loss: 1.7799883894066313\t             Training accuracy: 29.34166717529297\n",
      "Validation Loss: 1.2454958634012063\t             Validation accuracy: 49.65999984741211\t             LR:0.01\n",
      "Epoch: 34\n",
      "Training Loss: 1.779671214790995\t             Training accuracy: 29.30666732788086\n",
      "Validation Loss: 1.2709265256383617\t             Validation accuracy: 49.70000076293945\t             LR:0.01\n",
      "Epoch: 35\n",
      "Training Loss: 1.7774353843253812\t             Training accuracy: 29.41666603088379\n",
      "Validation Loss: 1.2577663827094303\t             Validation accuracy: 49.72999954223633\t             LR:0.01\n",
      "Epoch: 36\n",
      "Training Loss: 1.7655730899463076\t             Training accuracy: 29.781665802001953\n",
      "Validation Loss: 1.2344030149423393\t             Validation accuracy: 49.7599983215332\t             LR:0.01\n",
      "Epoch: 37\n",
      "Training Loss: 1.7767799087424776\t             Training accuracy: 29.354999542236328\n",
      "Validation Loss: 1.2353997879726872\t             Validation accuracy: 49.599998474121094\t             LR:0.01\n",
      "Epoch: 38\n",
      "Training Loss: 1.7730498917575583\t             Training accuracy: 29.58333396911621\n",
      "Validation Loss: 1.2637098355657737\t             Validation accuracy: 49.61000061035156\t             LR:0.01\n",
      "Epoch: 39\n",
      "Training Loss: 1.771544711422056\t             Training accuracy: 29.633333206176758\n",
      "Validation Loss: 1.262192394703057\t             Validation accuracy: 49.75\t             LR:0.01\n",
      "Epoch: 40\n",
      "Training Loss: 1.7774762743825852\t             Training accuracy: 29.325000762939453\n",
      "Validation Loss: 1.254727750826793\t             Validation accuracy: 49.70000076293945\t             LR:0.01\n",
      "Epoch: 41\n",
      "Training Loss: 1.772529921170745\t             Training accuracy: 29.315000534057617\n",
      "Validation Loss: 1.239524261586985\t             Validation accuracy: 49.68000030517578\t             LR:0.01\n",
      "Epoch: 42\n",
      "Training Loss: 1.7678503741079301\t             Training accuracy: 29.751667022705078\n",
      "Validation Loss: 1.2863862237353234\t             Validation accuracy: 49.4900016784668\t             LR:0.01\n",
      "Epoch: 43\n",
      "Training Loss: 1.767399654078331\t             Training accuracy: 29.540000915527344\n",
      "Validation Loss: 1.227868308307259\t             Validation accuracy: 49.72999954223633\t             LR:0.01\n",
      "Epoch: 44\n",
      "Training Loss: 1.7768333387781563\t             Training accuracy: 29.376667022705078\n",
      "Validation Loss: 1.265845653357779\t             Validation accuracy: 49.689998626708984\t             LR:0.01\n",
      "Epoch: 45\n",
      "Training Loss: 1.7695694474269077\t             Training accuracy: 29.670000076293945\n",
      "Validation Loss: 1.2558342241177893\t             Validation accuracy: 49.619998931884766\t             LR:0.01\n",
      "Epoch: 46\n",
      "Training Loss: 1.7738785784381794\t             Training accuracy: 29.3799991607666\n",
      "Validation Loss: 1.2400648639460279\t             Validation accuracy: 49.54999923706055\t             LR:0.01\n",
      "Epoch: 47\n",
      "Training Loss: 1.7691794908377154\t             Training accuracy: 29.486665725708008\n",
      "Validation Loss: 1.2471137358124849\t             Validation accuracy: 49.7599983215332\t             LR:0.01\n",
      "Epoch: 48\n",
      "Training Loss: 1.7708524014395692\t             Training accuracy: 29.536666870117188\n",
      "Validation Loss: 1.2413971955609169\t             Validation accuracy: 49.86000061035156\t             LR:0.01\n",
      "Epoch: 49\n",
      "Training Loss: 1.7720005640597232\t             Training accuracy: 29.3799991607666\n",
      "Validation Loss: 1.2470174769687046\t             Validation accuracy: 49.70000076293945\t             LR:0.01\n",
      "Epoch: 50\n",
      "Training Loss: 1.7668090688902687\t             Training accuracy: 29.59833335876465\n",
      "Validation Loss: 1.2646433950229814\t             Validation accuracy: 49.45000076293945\t             LR:0.01\n",
      "--- 1042.7401823997498 seconds ---\n",
      "Finished Training\n"
     ]
    }
   ],
   "source": [
    "start_time = time.time()\n",
    "for epoch in range(num_epochs):\n",
    "    print(f'Epoch: {epoch+1}')\n",
    "\n",
    "    #get the current learning rate\n",
    "    curr_lr = optimizer.param_groups[0]['lr']\n",
    "\n",
    "    train()\n",
    "    test()\n",
    "\n",
    "    epochs.append(epoch)\n",
    "\n",
    "\n",
    "\n",
    "    #step the learning rate scheduler\n",
    "    scheduler.step()\n",
    "\n",
    "\n",
    "print(\"--- %s seconds ---\" % (time.time() - start_time))\n",
    "print('Finished Training')\n"
   ]
  },
  {
   "cell_type": "code",
   "execution_count": 13,
   "metadata": {
    "collapsed": false,
    "jupyter": {
     "outputs_hidden": false
    },
    "pycharm": {
     "name": "#%%\n"
    }
   },
   "outputs": [
    {
     "name": "stdout",
     "output_type": "stream",
     "text": [
      "Accuracy of the network on the 10000 test images: 49.45 %\n"
     ]
    }
   ],
   "source": [
    "with torch.no_grad():\n",
    "    n_correct = 0\n",
    "    n_samples = 0\n",
    "    for images, labels in test_loader:\n",
    "        images = images.reshape(-1, 28*28).to(device)\n",
    "        labels = labels.to(device)\n",
    "        outputs = model(images)\n",
    "        # max returns (value ,index)\n",
    "        _, predicted = torch.max(outputs.data, 1)\n",
    "        n_samples += labels.size(0)\n",
    "        n_correct += (predicted == labels).sum().item()\n",
    "\n",
    "    acc = 100.0 * n_correct / n_samples\n",
    "    print(f'Accuracy of the network on the 10000 test images: {acc} %')\n",
    "\n"
   ]
  },
  {
   "cell_type": "code",
   "execution_count": null,
   "outputs": [],
   "source": [
    "def plotLosses(epochs, Loss, title):\n",
    "    plt.figure(figsize=(10,6))\n",
    "    plt.title(title)\n",
    "    plt.plot(epochs, Loss, label = \"Loss\")\n",
    "    plt.legend()\n",
    "    plt.xlabel(\"Epochs\")\n",
    "    plt.ylabel(\"Loss\")\n",
    "    plt.savefig(title + '.png')"
   ],
   "metadata": {
    "collapsed": false,
    "pycharm": {
     "name": "#%%\n"
    }
   }
  },
  {
   "cell_type": "code",
   "execution_count": null,
   "outputs": [],
   "source": [
    "\n",
    "#plot combo loss diagrams\n",
    "plt.figure(figsize=(10,6))\n",
    "#plt.title(f'FCN_batchnorm2-{opt} lr:{learning_rate} acc:{acc} epochs-{num_epochs}') #-mac\n",
    "plt.title(f'FCN_batchnorm2-{opt} lr:{learning_rate} acc-{acc} epochs-{num_epochs}') #-Win\n",
    "\n",
    "plt.plot(epochs, train_loss_average, label = \"Training loss\")\n",
    "plt.plot(epochs, valid_loss_average, label = 'Validation loss')\n",
    "plt.legend()\n",
    "plt.xlabel(\"Epochs\")\n",
    "plt.ylabel(\"Loss\")\n",
    "#plt.savefig(f'FCN_batchnorm2-Loss-{opt} lr:{learning_rate} acc:{acc}.png' epochs-{num_epochs}) #-mac\n",
    "plt.savefig(f'FCN_batchnorm2-Loss-{opt} lr-{learning_rate} acc-{acc} epochs-{num_epochs}.png') #-win\n",
    "\n",
    "#plot validation accuracies\n",
    "plt.figure(figsize=(10,6))\n",
    "#plt.title(f'FCN_batchnorm2-{opt} lr:{learning_rate} acc:{acc} epochs-{num_epochs}') #-mac\n",
    "plt.title(f'FCN_batchnorm2-{opt} lr-{learning_rate} acc-{acc} epochs-{num_epochs}') #-win\n",
    "plt.plot(epochs, train_accuracy, label = \"Training accuracy\")\n",
    "plt.plot(epochs, valid_accuracy, label = 'Validation accuracy')\n",
    "plt.legend()\n",
    "plt.xlabel(\"Epoch\")\n",
    "plt.ylabel(\"Accuracy\")\n",
    "#plt.savefig(f'FCN_batchnorm2-Accuracy-{opt} lr:{learning_rate} acc:{acc}.png' epochs-{num_epochs}) #-mac\n",
    "plt.savefig(f'FCN_batchnorm2-Accuracy-{opt} lr-{learning_rate} acc-{acc} epochs-{num_epochs}.png') #-win\n",
    "\n",
    "\n",
    "#PATH = f'./FCN_batchnorm2-{opt}-lr:{learning_rate}-acc:{acc} epochs-{num_epochs}.pth' #-mac\n",
    "PATH = f'./FCN_batchnorm2-{opt}-lr-{learning_rate}-acc-{acc} epochs-{num_epochs}.pth' #-win\n",
    "\n",
    "torch.save(model.state_dict(), PATH)"
   ],
   "metadata": {
    "collapsed": false,
    "pycharm": {
     "name": "#%%\n"
    }
   }
  },
  {
   "cell_type": "code",
   "execution_count": 14,
   "metadata": {
    "collapsed": false,
    "jupyter": {
     "outputs_hidden": false
    },
    "pycharm": {
     "name": "#%%\n"
    }
   },
   "outputs": [],
   "source": [
    "from pathlib import Path\n",
    "\n",
    "df = pd.DataFrame(train_loss_average, columns=['train_loss'], index=[i for i in range(1,151)])\n",
    "filepath = Path(f'ResultsData/trainloss/{ModelName}-{opt}-{learning_rate}-{acc}.csv')\n",
    "filepath.parent.mkdir(parents=True, exist_ok=True)\n",
    "df.to_csv(filepath)\n",
    "\n",
    "df = pd.DataFrame(valid_loss_average, columns=['valid_loss'], index=[i for i in range(1,151)])\n",
    "filepath = Path(f'ResultsData/validloss/{ModelName}-{opt}-{learning_rate}-{acc}.csv')\n",
    "filepath.parent.mkdir(parents=True, exist_ok=True)\n",
    "df.to_csv(filepath)\n",
    "\n",
    "df = pd.DataFrame(train_accuracy, columns=['train_accuracy'], index=[i for i in range(1,151)])\n",
    "filepath = Path(f'ResultsData/trainacc/{ModelName}-{opt}-{learning_rate}-{acc}.csv')\n",
    "filepath.parent.mkdir(parents=True, exist_ok=True)\n",
    "df.to_csv(filepath)\n",
    "\n",
    "df = pd.DataFrame(valid_accuracy, columns=['valid_accuracy'], index=[i for i in range(1,151)])\n",
    "filepath = Path(f'ResultsData/validacc/{ModelName}-{opt}-{learning_rate}-{acc}.csv')\n",
    "filepath.parent.mkdir(parents=True, exist_ok=True)\n",
    "df.to_csv(filepath)"
   ]
  },
  {
   "cell_type": "code",
   "execution_count": 15,
   "metadata": {
    "collapsed": false,
    "jupyter": {
     "outputs_hidden": false
    },
    "pycharm": {
     "name": "#%%\n"
    }
   },
   "outputs": [
    {
     "data": {
      "image/png": "[encoded data removed]",
      "text/plain": [
       "<Figure size 720x432 with 1 Axes>"
      ]
     },
     "metadata": {},
     "output_type": "display_data"
    },
    {
     "data": {
      "image/png": "[encoded data removed]",
      "text/plain": [
       "<Figure size 720x432 with 1 Axes>"
      ]
     },
     "metadata": {},
     "output_type": "display_data"
    },
    {
     "data": {
      "image/png": "[encoded data removed]",
      "text/plain": [
       "<Figure size 720x432 with 1 Axes>"
      ]
     },
     "metadata": {},
     "output_type": "display_data"
    },
    {
     "data": {
      "image/png": "[encoded data removed]",
      "text/plain": [
       "<Figure size 720x432 with 1 Axes>"
      ]
     },
     "metadata": {},
     "output_type": "display_data"
    }
   ],
   "source": [
    "#plot the loss diagrams\n",
    "#mac\n",
    "#plotLosses(epochs, train_loss_average, f'FCN_batchnorm2-{opt}_train_loss lr:{learning_rate} acc:{acc} epochs-{num_epochs}')\n",
    "#plotLosses(epochs, valid_loss_average, f'FCN_batchnorm2-{opt}_valid_loss lr:{learning_rate} acc:{acc} epochs-{num_epochs}')\n",
    "#win\n",
    "plotLosses(epochs, train_loss_average, f'FCN_batchnorm2-{opt}_train_loss lr-{learning_rate} acc-{acc} epochs-{num_epochs}')\n",
    "plotLosses(epochs, valid_loss_average, f'FCN_batchnorm2-{opt}_valid_loss lr-{learning_rate} acc-{acc} epochs-{num_epochs}')\n",
    "\n",
    "#plot combo loss diagrams\n",
    "plt.figure(figsize=(10,6))\n",
    "#plt.title(f'FCN_batchnorm2-{opt} lr:{learning_rate} acc:{acc} epochs-{num_epochs}') #-mac\n",
    "plt.title(f'FCN_batchnorm2-{opt} lr:{learning_rate} acc-{acc} epochs-{num_epochs}') #-Win\n",
    "\n",
    "plt.plot(epochs, train_loss_average, label = \"Training loss\")\n",
    "plt.plot(epochs, valid_loss_average, label = 'Validation loss')\n",
    "plt.legend()\n",
    "plt.xlabel(\"Epochs\")\n",
    "plt.ylabel(\"Loss\")\n",
    "#plt.savefig(f'FCN_batchnorm2-Loss-{opt} lr:{learning_rate} acc:{acc}.png' epochs-{num_epochs}) #-mac\n",
    "plt.savefig(f'FCN_batchnorm2-Loss-{opt} lr-{learning_rate} acc-{acc} epochs-{num_epochs}.png') #-win\n",
    "\n",
    "#plot validation accuracies\n",
    "plt.figure(figsize=(10,6))\n",
    "#plt.title(f'FCN_batchnorm2-{opt} lr:{learning_rate} acc:{acc} epochs-{num_epochs}') #-mac\n",
    "plt.title(f'FCN_batchnorm2-{opt} lr-{learning_rate} acc-{acc} epochs-{num_epochs}') #-win\n",
    "plt.plot(epochs, train_accuracy, label = \"Training accuracy\")\n",
    "plt.plot(epochs, valid_accuracy, label = 'Validation accuracy')\n",
    "plt.legend()\n",
    "plt.xlabel(\"Epoch\")\n",
    "plt.ylabel(\"Accuracy\")\n",
    "#plt.savefig(f'FCN_batchnorm2-Accuracy-{opt} lr:{learning_rate} acc:{acc}.png' epochs-{num_epochs}) #-mac\n",
    "plt.savefig(f'FCN_batchnorm2-Accuracy-{opt} lr-{learning_rate} acc-{acc} epochs-{num_epochs}.png') #-win\n",
    "\n",
    "\n",
    "#PATH = f'./FCN_batchnorm2-{opt}-lr:{learning_rate}-acc:{acc} epochs-{num_epochs}.pth' #-mac\n",
    "PATH = f'./FCN_batchnorm2-{opt}-lr-{learning_rate}-acc-{acc} epochs-{num_epochs}.pth' #-win\n",
    "\n",
    "torch.save(model.state_dict(), PATH)"
   ]
  },
  {
   "cell_type": "code",
   "execution_count": null,
   "metadata": {
    "collapsed": false,
    "jupyter": {
     "outputs_hidden": false
    },
    "pycharm": {
     "name": "#%%\n"
    }
   },
   "outputs": [],
   "source": [
    "\n",
    "\n",
    "\n"
   ]
  }
 ],
 "metadata": {
  "kernelspec": {
   "display_name": "Python 3 (ipykernel)",
   "language": "python",
   "name": "python3"
  },
  "language_info": {
   "codemirror_mode": {
    "name": "ipython",
    "version": 3
   },
   "file_extension": ".py",
   "mimetype": "text/x-python",
   "name": "python",
   "nbconvert_exporter": "python",
   "pygments_lexer": "ipython3",
   "version": "3.8.3"
  }
 },
 "nbformat": 4,
 "nbformat_minor": 4
}
{
 "cells": [
  {
   "cell_type": "code",
   "execution_count": 9,
   "outputs": [],
   "source": [
    "import torch\n",
    "from torch import nn\n",
    "import torchvision\n",
    "import pandas as pd\n",
    "import torchvision.transforms as transforms\n",
    "import matplotlib.pyplot as plt\n",
    "import numpy as np\n",
    "import ssl\n",
    "import seaborn as sns\n",
    "import time\n",
    "import torchbearer\n",
    "\n",
    "sns.set_theme()\n",
    "ssl._create_default_https_context = ssl._create_unverified_context"
   ],
   "metadata": {
    "collapsed": false,
    "pycharm": {
     "name": "#%%\n"
    }
   }
  },
  {
   "cell_type": "code",
   "execution_count": 10,
   "outputs": [],
   "source": [
    "# Device configuration\n",
    "device = torch.device('cuda' if torch.cuda.is_available() else 'cpu')"
   ],
   "metadata": {
    "collapsed": false,
    "pycharm": {
     "name": "#%%\n"
    }
   }
  },
  {
   "cell_type": "code",
   "execution_count": 11,
   "outputs": [],
   "source": [
    "# Hyper-parameters\n",
    "num_epochs = 150\n",
    "batch_size = 64\n",
    "learning_rate = 0.001"
   ],
   "metadata": {
    "collapsed": false,
    "pycharm": {
     "name": "#%%\n"
    }
   }
  },
  {
   "cell_type": "code",
   "execution_count": 12,
   "outputs": [
    {
     "data": {
      "text/plain": "<Figure size 432x288 with 1 Axes>",
      "image/png": "[encoded data removed]"
     },
     "metadata": {},
     "output_type": "display_data"
    }
   ],
   "source": [
    "# dataset has PILImage images of range [0, 1].\n",
    "# We transform them to Tensors of normalized range [-1, 1]\n",
    "'''\n",
    "transform = transforms.Compose(\n",
    "    [transforms.ToTensor(),\n",
    "     transforms.Normalize((0.5, 0.5, 0.5), (0.5, 0.5, 0.5))])\n",
    "'''\n",
    "transform = transforms.Compose([\n",
    "    transforms.ToTensor(),\n",
    "    transforms.Lambda(lambda x: x.view(-1)),\n",
    "])\n",
    "\n",
    "train_dataset = torchvision.datasets.MNIST(root='./data', train=True,\n",
    "                                        download=True, transform=transform)\n",
    "\n",
    "test_dataset = torchvision.datasets.MNIST(root='./data', train=False,\n",
    "                                       download=True, transform=transform)\n",
    "\n",
    "train_loader = torch.utils.data.DataLoader(train_dataset, batch_size=batch_size,\n",
    "                                          shuffle=True)\n",
    "\n",
    "test_loader = torch.utils.data.DataLoader(test_dataset, batch_size=batch_size,\n",
    "                                         shuffle=False)\n",
    "\n",
    "classes = ('plane', 'car', 'bird', 'cat',\n",
    "           'deer', 'dog', 'frog', 'horse', 'ship', 'truck')\n",
    "\n",
    "def imshow(img):\n",
    "    img = img / 2 + 0.5  # unnormalize\n",
    "    npimg = img.numpy()\n",
    "    plt.imshow(np.transpose(npimg, (1, 2, 0)))\n",
    "    plt.show()\n",
    "\n",
    "\n",
    "# get some random training images\n",
    "dataiter = iter(train_loader)\n",
    "images, labels = dataiter.next()\n",
    "\n",
    "# show images\n",
    "imshow(torchvision.utils.make_grid(images))"
   ],
   "metadata": {
    "collapsed": false,
    "pycharm": {
     "name": "#%%\n"
    }
   }
  },
  {
   "cell_type": "code",
   "execution_count": 13,
   "outputs": [],
   "source": [
    "class FCNClass(nn.Module):\n",
    "    def __init__(self):\n",
    "        # input: 784 Dimensional Vectors as input\n",
    "        super(FCNClass, self).__init__()\n",
    "\n",
    "        # layer 1 (784-100)\n",
    "        # Hidden Layer\n",
    "        # Dropout Layer with keep prob 0.5\n",
    "        self.hidden1 = nn.Sequential(\n",
    "                        nn.Linear(784, 100),\n",
    "                        nn.ReLU(),\n",
    "                        nn.Dropout(p=0.5)\n",
    "        )\n",
    "\n",
    "        # Layer 2 (100-100)\n",
    "        # Hidden Layer\n",
    "        # Dropout Layer with keep prob 0.5\n",
    "        self.hidden2 = nn.Sequential(\n",
    "                        nn.Linear(100, 100),\n",
    "                        nn.ReLU(),\n",
    "                        nn.Dropout(p=0.5)\n",
    "        )\n",
    "\n",
    "        # Layer 3 (100-10)\n",
    "        # Hidden Layer\n",
    "        # Dropout Layer with keep prob 0.5\n",
    "        self.hidden3 = nn.Sequential(\n",
    "                        nn.Linear(100, 100),\n",
    "                        nn.ReLU(),\n",
    "                        nn.Dropout(p=0.5)\n",
    "        )\n",
    "\n",
    "        # Layer 4 (100-10)\n",
    "        # Hidden Layer\n",
    "        # Dropout Layer with keep prob 0.5\n",
    "        self.output = nn.Sequential(\n",
    "                        nn.Linear(100, 10),\n",
    "                        nn.ReLU(),\n",
    "                        nn.Dropout(p=0.5)\n",
    "        )\n",
    "        # 10 softmax activated output neurons\n",
    "        self.outputLayer = nn.Softmax(dim=1)\n",
    "\n",
    "\n",
    "    def forward(self, x):\n",
    "        midLevel = self.hidden1(x)\n",
    "        midLevel = self.hidden2(midLevel)\n",
    "        midLevel = self.hidden3(midLevel)\n",
    "        output   = self.output(midLevel)\n",
    "        return output\n"
   ],
   "metadata": {
    "collapsed": false,
    "pycharm": {
     "name": "#%%\n"
    }
   }
  },
  {
   "cell_type": "code",
   "execution_count": 14,
   "outputs": [],
   "source": [
    "model = FCNClass().to(device)\n",
    "\n",
    "criterion = nn.CrossEntropyLoss()\n",
    "optimizer = torch.optim.Adam(model.parameters(), lr=learning_rate)\n",
    "opt = \"ADAM\""
   ],
   "metadata": {
    "collapsed": false,
    "pycharm": {
     "name": "#%%\n"
    }
   }
  },
  {
   "cell_type": "code",
   "execution_count": 15,
   "outputs": [],
   "source": [
    "epochs = []\n",
    "n_total_steps = len(train_loader)\n",
    "train_loss_average = torch.zeros(num_epochs)\n",
    "valid_loss_average = torch.zeros(num_epochs)\n",
    "#scheduler = torch.optim.lr_scheduler.MultiStepLR(optimizer, milestones=[60,120], gamma=0.1)\n",
    "start_time = time.time()"
   ],
   "metadata": {
    "collapsed": false,
    "pycharm": {
     "name": "#%%\n"
    }
   }
  },
  {
   "cell_type": "code",
   "execution_count": null,
   "outputs": [
    {
     "name": "stdout",
     "output_type": "stream",
     "text": [
      "Epoch 0\t             Training Loss: 1.6816361118227179\t             Validation Loss:0.6682937076896619\t             LR:0.001\n",
      "Epoch 1\t             Training Loss: 1.4893251722301248\t             Validation Loss:0.6116628609834962\t             LR:0.001\n",
      "Epoch 2\t             Training Loss: 1.4625493141252603\t             Validation Loss:0.5894523291451157\t             LR:0.001\n",
      "Epoch 3\t             Training Loss: 1.4470515948241707\t             Validation Loss:0.5464723526862016\t             LR:0.001\n",
      "Epoch 4\t             Training Loss: 1.4379886729376656\t             Validation Loss:0.5596309529178461\t             LR:0.001\n",
      "Epoch 5\t             Training Loss: 1.4223788499450887\t             Validation Loss:0.5279006710287871\t             LR:0.001\n",
      "Epoch 6\t             Training Loss: 1.4249761703171964\t             Validation Loss:0.5224694394192119\t             LR:0.001\n",
      "Epoch 7\t             Training Loss: 1.4210278365149427\t             Validation Loss:0.5346499997529255\t             LR:0.001\n",
      "Epoch 8\t             Training Loss: 1.4161874787893884\t             Validation Loss:0.5158175636248984\t             LR:0.001\n",
      "Epoch 9\t             Training Loss: 1.4094954411358214\t             Validation Loss:0.5082001501967193\t             LR:0.001\n",
      "Epoch 10\t             Training Loss: 1.4054921771417548\t             Validation Loss:0.4980323554793741\t             LR:0.001\n",
      "Epoch 11\t             Training Loss: 1.4048415998151815\t             Validation Loss:0.49029947988166933\t             LR:0.001\n",
      "Epoch 12\t             Training Loss: 1.4006993322611363\t             Validation Loss:0.4789305480232664\t             LR:0.001\n",
      "Epoch 13\t             Training Loss: 1.3961522494679066\t             Validation Loss:0.5070186850561458\t             LR:0.001\n",
      "Epoch 14\t             Training Loss: 1.3984856355164859\t             Validation Loss:0.49354132098756776\t             LR:0.001\n",
      "Epoch 15\t             Training Loss: 1.3941290712814087\t             Validation Loss:0.4926430972138788\t             LR:0.001\n",
      "Epoch 16\t             Training Loss: 1.3953968719251628\t             Validation Loss:0.49237931268230367\t             LR:0.001\n",
      "Epoch 17\t             Training Loss: 1.3902640305856653\t             Validation Loss:0.4894209791710422\t             LR:0.001\n",
      "Epoch 18\t             Training Loss: 1.388355908109181\t             Validation Loss:0.47710424747057023\t             LR:0.001\n",
      "Epoch 19\t             Training Loss: 1.3934871082875266\t             Validation Loss:0.480026012203496\t             LR:0.001\n",
      "Epoch 20\t             Training Loss: 1.3881220401350114\t             Validation Loss:0.4770957586491943\t             LR:0.001\n",
      "Epoch 21\t             Training Loss: 1.3918461432970408\t             Validation Loss:0.47272596494027763\t             LR:0.001\n",
      "Epoch 22\t             Training Loss: 1.3919561214919791\t             Validation Loss:0.4591155980422998\t             LR:0.001\n",
      "Epoch 23\t             Training Loss: 1.3883526660740249\t             Validation Loss:0.4753861112199771\t             LR:0.001\n",
      "Epoch 24\t             Training Loss: 1.3807924593181244\t             Validation Loss:0.4695057438057699\t             LR:0.001\n",
      "Epoch 25\t             Training Loss: 1.3902072739372375\t             Validation Loss:0.46657500572644983\t             LR:0.001\n",
      "Epoch 26\t             Training Loss: 1.3949287291655916\t             Validation Loss:0.4796357677810511\t             LR:0.001\n",
      "Epoch 27\t             Training Loss: 1.3797370279902843\t             Validation Loss:0.4705656547645095\t             LR:0.001\n",
      "Epoch 28\t             Training Loss: 1.3796444063756004\t             Validation Loss:0.44885570200005914\t             LR:0.001\n",
      "Epoch 29\t             Training Loss: 1.3901819019302377\t             Validation Loss:0.45820038533134827\t             LR:0.001\n",
      "Epoch 30\t             Training Loss: 1.3855019419559285\t             Validation Loss:0.47427208598252313\t             LR:0.001\n",
      "Epoch 31\t             Training Loss: 1.3877111325767248\t             Validation Loss:0.4521727529680653\t             LR:0.001\n",
      "Epoch 32\t             Training Loss: 1.378334087095281\t             Validation Loss:0.4529308982335838\t             LR:0.001\n",
      "Epoch 33\t             Training Loss: 1.3830025327612343\t             Validation Loss:0.44945073725691265\t             LR:0.001\n",
      "Epoch 34\t             Training Loss: 1.3821044145489552\t             Validation Loss:0.46497722046010814\t             LR:0.001\n",
      "Epoch 35\t             Training Loss: 1.3811592759608207\t             Validation Loss:0.45970204064420833\t             LR:0.001\n",
      "Epoch 36\t             Training Loss: 1.3803599009127505\t             Validation Loss:0.4337224447803133\t             LR:0.001\n",
      "Epoch 37\t             Training Loss: 1.3779616245964188\t             Validation Loss:0.4445508033227009\t             LR:0.001\n",
      "Epoch 38\t             Training Loss: 1.3807591891873365\t             Validation Loss:0.45427609600458935\t             LR:0.001\n",
      "Epoch 39\t             Training Loss: 1.3710466921964943\t             Validation Loss:0.4591117401601403\t             LR:0.001\n",
      "Epoch 40\t             Training Loss: 1.3799582986053882\t             Validation Loss:0.4668674088397603\t             LR:0.001\n",
      "Epoch 41\t             Training Loss: 1.3749260741002016\t             Validation Loss:0.4460694451051153\t             LR:0.001\n",
      "Epoch 42\t             Training Loss: 1.3698749387823443\t             Validation Loss:0.45869356194499195\t             LR:0.001\n",
      "Epoch 43\t             Training Loss: 1.3805799838195223\t             Validation Loss:0.45893599728869783\t             LR:0.001\n",
      "Epoch 44\t             Training Loss: 1.3818395744000416\t             Validation Loss:0.4470852377118578\t             LR:0.001\n",
      "Epoch 45\t             Training Loss: 1.3833457844089598\t             Validation Loss:0.45807694173922203\t             LR:0.001\n",
      "Epoch 46\t             Training Loss: 1.3652171945012708\t             Validation Loss:0.43570385569599784\t             LR:0.001\n",
      "Epoch 47\t             Training Loss: 1.3813057590140971\t             Validation Loss:0.4421955119272706\t             LR:0.001\n",
      "Epoch 48\t             Training Loss: 1.370140172461711\t             Validation Loss:0.4698951688541728\t             LR:0.001\n",
      "Epoch 49\t             Training Loss: 1.3664499305839986\t             Validation Loss:0.43801831743519776\t             LR:0.001\n",
      "Epoch 50\t             Training Loss: 1.3705309382252602\t             Validation Loss:0.4582605811820668\t             LR:0.001\n",
      "Epoch 51\t             Training Loss: 1.3753983629410709\t             Validation Loss:0.4482701976018347\t             LR:0.001\n",
      "Epoch 52\t             Training Loss: 1.377337463946739\t             Validation Loss:0.4416085716075958\t             LR:0.001\n",
      "Epoch 53\t             Training Loss: 1.3725438588209498\t             Validation Loss:0.45108061791605253\t             LR:0.001\n",
      "Epoch 54\t             Training Loss: 1.3792428149978744\t             Validation Loss:0.43496180339983315\t             LR:0.001\n",
      "Epoch 55\t             Training Loss: 1.3727787514485277\t             Validation Loss:0.45220209762548946\t             LR:0.001\n",
      "Epoch 56\t             Training Loss: 1.3779361995933914\t             Validation Loss:0.43849775906960675\t             LR:0.001\n",
      "Epoch 57\t             Training Loss: 1.3756277449349605\t             Validation Loss:0.4474340043250163\t             LR:0.001\n",
      "Epoch 58\t             Training Loss: 1.374629630208778\t             Validation Loss:0.4472473509562243\t             LR:0.001\n",
      "Epoch 59\t             Training Loss: 1.3687720485587618\t             Validation Loss:0.45483714864132513\t             LR:0.001\n",
      "Epoch 60\t             Training Loss: 1.3763893096685917\t             Validation Loss:0.45907053408349396\t             LR:0.001\n",
      "Epoch 61\t             Training Loss: 1.3665620778033982\t             Validation Loss:0.4492842992589732\t             LR:0.001\n",
      "Epoch 62\t             Training Loss: 1.369305868519903\t             Validation Loss:0.4324625889017324\t             LR:0.001\n",
      "Epoch 63\t             Training Loss: 1.370346658456046\t             Validation Loss:0.44998495451583986\t             LR:0.001\n",
      "Epoch 64\t             Training Loss: 1.3656789919079493\t             Validation Loss:0.43674200488503573\t             LR:0.001\n",
      "Epoch 65\t             Training Loss: 1.372487550795968\t             Validation Loss:0.4416301227678919\t             LR:0.001\n",
      "Epoch 66\t             Training Loss: 1.3691303023397288\t             Validation Loss:0.4510998751517314\t             LR:0.001\n",
      "Epoch 67\t             Training Loss: 1.3689947548959809\t             Validation Loss:0.4298942699364037\t             LR:0.001\n",
      "Epoch 68\t             Training Loss: 1.371393753521478\t             Validation Loss:0.4205569145121392\t             LR:0.001\n",
      "Epoch 69\t             Training Loss: 1.3655477311692512\t             Validation Loss:0.42589093317651444\t             LR:0.001\n",
      "Epoch 70\t             Training Loss: 1.3671523996634778\t             Validation Loss:0.46713062665265076\t             LR:0.001\n",
      "Epoch 71\t             Training Loss: 1.3706745546001362\t             Validation Loss:0.4429225922579978\t             LR:0.001\n",
      "Epoch 72\t             Training Loss: 1.3755513126534948\t             Validation Loss:0.439302770385317\t             LR:0.001\n",
      "Epoch 73\t             Training Loss: 1.3624981738356894\t             Validation Loss:0.45611520035631337\t             LR:0.001\n",
      "Epoch 74\t             Training Loss: 1.3741696608473244\t             Validation Loss:0.4401900080169082\t             LR:0.001\n",
      "Epoch 75\t             Training Loss: 1.3704208809810916\t             Validation Loss:0.4374776835654192\t             LR:0.001\n",
      "Epoch 76\t             Training Loss: 1.366641341686757\t             Validation Loss:0.46125934942133107\t             LR:0.001\n",
      "Epoch 77\t             Training Loss: 1.3663389746314172\t             Validation Loss:0.4336389024166544\t             LR:0.001\n",
      "Epoch 78\t             Training Loss: 1.3683861023200345\t             Validation Loss:0.45082732788316765\t             LR:0.001\n",
      "Epoch 79\t             Training Loss: 1.3713070832844227\t             Validation Loss:0.43438154392561334\t             LR:0.001\n",
      "Epoch 80\t             Training Loss: 1.3677320568037947\t             Validation Loss:0.45025370872704085\t             LR:0.001\n",
      "Epoch 81\t             Training Loss: 1.365615719607644\t             Validation Loss:0.4448904430220841\t             LR:0.001\n",
      "Epoch 82\t             Training Loss: 1.3622780909924619\t             Validation Loss:0.4238190713107206\t             LR:0.001\n",
      "Epoch 83\t             Training Loss: 1.3656779114625601\t             Validation Loss:0.4325028122610347\t             LR:0.001\n",
      "Epoch 84\t             Training Loss: 1.3648656003637862\t             Validation Loss:0.4323890725518488\t             LR:0.001\n",
      "Epoch 85\t             Training Loss: 1.3719046298883109\t             Validation Loss:0.42756542962068206\t             LR:0.001\n",
      "Epoch 86\t             Training Loss: 1.3669091726162794\t             Validation Loss:0.4385758537775392\t             LR:0.001\n",
      "Epoch 87\t             Training Loss: 1.3707823414029852\t             Validation Loss:0.42979018693896615\t             LR:0.001\n",
      "Epoch 88\t             Training Loss: 1.3743326845707924\t             Validation Loss:0.4252053247705387\t             LR:0.001\n",
      "Epoch 89\t             Training Loss: 1.3603029527516761\t             Validation Loss:0.4158790075475243\t             LR:0.001\n",
      "Epoch 90\t             Training Loss: 1.3679410240162155\t             Validation Loss:0.42007376989171763\t             LR:0.001\n",
      "Epoch 91\t             Training Loss: 1.3646547507756808\t             Validation Loss:0.418973996665827\t             LR:0.001\n",
      "Epoch 92\t             Training Loss: 1.3602219417151102\t             Validation Loss:0.44556759743933466\t             LR:0.001\n",
      "Epoch 93\t             Training Loss: 1.3654606412214512\t             Validation Loss:0.42356342437920297\t             LR:0.001\n",
      "Epoch 94\t             Training Loss: 1.3624707634515092\t             Validation Loss:0.4216906397016185\t             LR:0.001\n",
      "Epoch 95\t             Training Loss: 1.371546303857364\t             Validation Loss:0.42519572130434075\t             LR:0.001\n",
      "Epoch 96\t             Training Loss: 1.3716852894978229\t             Validation Loss:0.43317461080232245\t             LR:0.001\n",
      "Epoch 97\t             Training Loss: 1.3661399841435682\t             Validation Loss:0.4178669561815869\t             LR:0.001\n",
      "Epoch 98\t             Training Loss: 1.3614991396220761\t             Validation Loss:0.41999585755691404\t             LR:0.001\n",
      "Epoch 99\t             Training Loss: 1.3700089762205763\t             Validation Loss:0.42423163743535425\t             LR:0.001\n",
      "Epoch 100\t             Training Loss: 1.358694003462029\t             Validation Loss:0.430651286889793\t             LR:0.001\n",
      "Epoch 101\t             Training Loss: 1.359677632480288\t             Validation Loss:0.4305800568715782\t             LR:0.001\n",
      "Epoch 102\t             Training Loss: 1.3656841726826707\t             Validation Loss:0.43796488756586793\t             LR:0.001\n",
      "Epoch 103\t             Training Loss: 1.3570819572726291\t             Validation Loss:0.419516024600928\t             LR:0.001\n",
      "Epoch 104\t             Training Loss: 1.3706137389262347\t             Validation Loss:0.4284589477120691\t             LR:0.001\n",
      "Epoch 105\t             Training Loss: 1.3647091441444243\t             Validation Loss:0.43678094180905896\t             LR:0.001\n",
      "Epoch 106\t             Training Loss: 1.3642768797589773\t             Validation Loss:0.43703170728151963\t             LR:0.001\n"
     ]
    }
   ],
   "source": [
    "start_time = time.time()\n",
    "for epoch in range(num_epochs):\n",
    "    running_train_loss = 0.0\n",
    "    running_valid_loss = 0.0\n",
    "    #trainng loop\n",
    "    model.train()\n",
    "    for i, (images, labels) in enumerate(train_loader):\n",
    "        images = images.to(device)\n",
    "        labels = labels.to(device)\n",
    "\n",
    "        # Forward pass\n",
    "        outputs = model(images)\n",
    "        train_step_loss = criterion(outputs, labels)\n",
    "\n",
    "        # Backward and optimize\n",
    "        optimizer.zero_grad()\n",
    "        train_step_loss.backward()\n",
    "        optimizer.step()\n",
    "\n",
    "        running_train_loss += train_step_loss.item()\n",
    "\n",
    "    #get the training losses\n",
    "    train_loss_average[epoch] = running_train_loss/len(train_loader)\n",
    "\n",
    "    #validation loop\n",
    "    model.eval()\n",
    "    for i, (images, labels) in enumerate(test_loader):\n",
    "        images = images.to(device)\n",
    "        labels = labels.to(device)\n",
    "\n",
    "        outputs = model(images)\n",
    "        valid_step_loss = criterion(outputs, labels)\n",
    "\n",
    "        running_valid_loss += valid_step_loss.item()\n",
    "\n",
    "    #get the validation losses\n",
    "    valid_loss_average[epoch] = running_valid_loss/len(test_loader)\n",
    "    epochs.append(epoch)\n",
    "\n",
    "    #get the current learning rate\n",
    "    curr_lr = optimizer.param_groups[0]['lr']\n",
    "\n",
    "    #step the learning rate scheduler\n",
    "    #scheduler.step()\n",
    "\n",
    "    print(f'Epoch {epoch}\\t \\\n",
    "            Training Loss: {running_train_loss/len(train_loader)}\\t \\\n",
    "            Validation Loss:{running_valid_loss/len(test_loader)}\\t \\\n",
    "            LR:{curr_lr}')\n",
    "\n",
    "print(\"--- %s seconds ---\" % (time.time() - start_time))\n",
    "print('Finished Training')\n"
   ],
   "metadata": {
    "collapsed": false,
    "pycharm": {
     "name": "#%%\n",
     "is_executing": true
    }
   }
  },
  {
   "cell_type": "code",
   "execution_count": null,
   "outputs": [],
   "source": [
    "with torch.no_grad():\n",
    "    n_correct = 0\n",
    "    n_samples = 0\n",
    "    for images, labels in test_loader:\n",
    "        images = images.reshape(-1, 28*28).to(device)\n",
    "        labels = labels.to(device)\n",
    "        outputs = model(images)\n",
    "        # max returns (value ,index)\n",
    "        _, predicted = torch.max(outputs.data, 1)\n",
    "        n_samples += labels.size(0)\n",
    "        n_correct += (predicted == labels).sum().item()\n",
    "\n",
    "    acc = 100.0 * n_correct / n_samples\n",
    "    print(f'Accuracy of the network on the 10000 test images: {acc} %')\n",
    "\n"
   ],
   "metadata": {
    "collapsed": false,
    "pycharm": {
     "name": "#%%\n",
     "is_executing": true
    }
   }
  },
  {
   "cell_type": "code",
   "execution_count": null,
   "outputs": [],
   "source": [
    "def plotLosses(epochs, Loss, title):\n",
    "    plt.figure(figsize=(10,6))\n",
    "    plt.title(title)\n",
    "    plt.plot(epochs, Loss, label = \"Loss\")\n",
    "    plt.legend()\n",
    "    plt.xlabel(\"Epochs\")\n",
    "    plt.ylabel(\"Loss\")\n",
    "    plt.savefig(title + '.png')"
   ],
   "metadata": {
    "collapsed": false,
    "pycharm": {
     "name": "#%%\n",
     "is_executing": true
    }
   }
  },
  {
   "cell_type": "code",
   "execution_count": null,
   "outputs": [],
   "source": [
    "#plot the loss diagrams\n",
    "plotLosses(epochs, train_loss_average, f'FCN-{opt}_train_loss lr:{learning_rate} acc:{acc}')\n",
    "plotLosses(epochs, valid_loss_average, f'FCN-{opt}_valid_loss lr:{learning_rate} acc:{acc}')\n",
    "\n",
    "plt.figure(figsize=(10,6))\n",
    "plt.title(f'FCN-{opt} lr:{learning_rate} acc:{acc}')\n",
    "plt.plot(epochs, train_loss_average, label = \"Training loss\")\n",
    "plt.plot(epochs, valid_loss_average, label = 'Validation loss')\n",
    "plt.legend()\n",
    "plt.xlabel(\"Epochs\")\n",
    "plt.ylabel(\"Loss\")\n",
    "plt.savefig(f'FCN-{opt} lr:{learning_rate} acc:{acc}.png')\n",
    "\n",
    "\n",
    "PATH = f'./FCN-{opt}-lr:{learning_rate}-acc:{acc}.pth'\n",
    "torch.save(model.state_dict(), PATH)"
   ],
   "metadata": {
    "collapsed": false,
    "pycharm": {
     "name": "#%%\n",
     "is_executing": true
    }
   }
  },
  {
   "cell_type": "code",
   "execution_count": null,
   "outputs": [],
   "source": [],
   "metadata": {
    "collapsed": false,
    "pycharm": {
     "name": "#%%\n",
     "is_executing": true
    }
   }
  }
 ],
 "metadata": {
  "kernelspec": {
   "display_name": "Python 3",
   "language": "python",
   "name": "python3"
  },
  "language_info": {
   "codemirror_mode": {
    "name": "ipython",
    "version": 2
   },
   "file_extension": ".py",
   "mimetype": "text/x-python",
   "name": "python",
   "nbconvert_exporter": "python",
   "pygments_lexer": "ipython2",
   "version": "2.7.6"
  }
 },
 "nbformat": 4,
 "nbformat_minor": 0
}
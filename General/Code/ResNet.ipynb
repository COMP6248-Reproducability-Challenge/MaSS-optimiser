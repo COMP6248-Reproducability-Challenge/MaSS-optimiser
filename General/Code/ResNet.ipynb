{
 "cells": [
  {
   "cell_type": "markdown",
   "id": "40ee7af7",
   "metadata": {},
   "source": [
    "# ResNet"
   ]
  },
  {
   "cell_type": "markdown",
   "id": "eb4f41f1",
   "metadata": {},
   "source": [
    "Residual Network (ResNet). We train a ResNet (7) with 32 convolutional layers. The ResNet-32\n",
    "has a sequence of 15 residual blocks: the first 5 blocks have an output of shape 32 × 32 × 16, the\n",
    "following 5 blocks have an output of shape 16×16×32 and the last 5 blocks have an output of shape\n",
    "8×8×64. On top of these blocks, there is a 2×2 average pooling layer with stride of 2, followed by\n",
    "a output layer of size 10 with softmax non-linearity. The ResNet-32 has ≈467k trainable parameters\n",
    "in total."
   ]
  },
  {
   "cell_type": "code",
   "execution_count": 2,
   "id": "a1dbfd59",
   "metadata": {},
   "outputs": [],
   "source": [
    "import torch\n",
    "from torch import nn"
   ]
  },
  {
   "cell_type": "code",
   "execution_count": null,
   "id": "e4c770e3",
   "metadata": {},
   "outputs": [],
   "source": [
    "class block(nn.Module):\n",
    "    def__init__(self, in_channels, out_channels, identity_downsample, stride=1)\n",
    "        super"
   ]
  }
 ],
 "metadata": {
  "kernelspec": {
   "display_name": "Python 3 (ipykernel)",
   "language": "python",
   "name": "python3"
  },
  "language_info": {
   "codemirror_mode": {
    "name": "ipython",
    "version": 3
   },
   "file_extension": ".py",
   "mimetype": "text/x-python",
   "name": "python",
   "nbconvert_exporter": "python",
   "pygments_lexer": "ipython3",
   "version": "3.9.5"
  }
 },
 "nbformat": 4,
 "nbformat_minor": 5
}

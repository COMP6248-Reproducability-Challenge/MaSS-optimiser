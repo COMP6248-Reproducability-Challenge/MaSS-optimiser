{
 "cells": [
  {
   "cell_type": "markdown",
   "id": "quality-credits",
   "metadata": {},
   "source": [
    "# Fully Connected Network"
   ]
  },
  {
   "cell_type": "markdown",
   "id": "changed-syndrome",
   "metadata": {},
   "source": [
    "Fully-connected Network. The fully-connected neural network has \n",
    "3 hidden layers, with 100 ReLU-activated neurons in each layer. \n",
    "After each hidden layer, there is a dropout layer with keep\n",
    "probability 0.5. \n",
    "This network takes 784-dimensional vectors as input, \n",
    "and has 10 softmax-activated output neurons. \n",
    "It has ≈99k trainable parameters in total."
   ]
  },
  {
   "cell_type": "code",
   "execution_count": 2,
   "id": "indonesian-catalyst",
   "metadata": {},
   "outputs": [],
   "source": [
    "import torch\n",
    "from torch import nn"
   ]
  },
  {
   "cell_type": "code",
   "execution_count": 7,
   "id": "aging-alloy",
   "metadata": {},
   "outputs": [],
   "source": [
    "class FCNClass(nn.Module):\n",
    "    def __init__(self):\n",
    "        # input: 784 Dimensional Vectors as input\n",
    "        super(FCNClass, self).__init__()\n",
    "        \n",
    "        # layer 1 (784-100)\n",
    "        # Hidden Layer\n",
    "        # Dropout Layer with keep prob 0.5\n",
    "        self.layer1 = nn.Sequential(\n",
    "                        nn.Linear(784, 100),\n",
    "                        nn.ReLU(), \n",
    "                        nn.Dropout(p=0.5)\n",
    "        )\n",
    "        \n",
    "        # Layer 2 (100-100)\n",
    "        # Hidden Layer\n",
    "        # Dropout Layer with keep prob 0.5\n",
    "        self.layer2 = nn.Sequential(\n",
    "                        nn.Linear(100, 100),\n",
    "                        nn.ReLU(), \n",
    "                        nn.Dropout(p=0.5)\n",
    "        )\n",
    "        \n",
    "        # Layer 3 (100-10)\n",
    "        # Hidden Layer\n",
    "        # Dropout Layer with keep prob 0.5\n",
    "        self.layer3 = nn.Sequential(\n",
    "                        nn.Linear(100, 10),\n",
    "                        nn.ReLU(), \n",
    "                        nn.Dropout(p=0.5)\n",
    "        )\n",
    "\n",
    "        # 10 softmax activated output neurons\n",
    "        self.outputLayer = nn.Softmax(dim=1)\n",
    "        \n",
    "        \n",
    "    def forward(self, input):\n",
    "        midLevel = self.layer1(input)\n",
    "        midLevel = self.layer2(midLevel)\n",
    "        midLevel = self.layer3(midLevel)\n",
    "        output   = self.softmax(midLevel)\n",
    "        return output"
   ]
  },
  {
   "cell_type": "code",
   "execution_count": 8,
   "id": "square-omega",
   "metadata": {},
   "outputs": [],
   "source": [
    "model = FCNClass()"
   ]
  },
  {
   "cell_type": "code",
   "execution_count": 9,
   "id": "liked-douglas",
   "metadata": {},
   "outputs": [
    {
     "name": "stdout",
     "output_type": "stream",
     "text": [
      "FCNClass(\n",
      "  (layer1): Sequential(\n",
      "    (0): Linear(in_features=784, out_features=100, bias=True)\n",
      "    (1): ReLU()\n",
      "    (2): Dropout(p=0.5, inplace=False)\n",
      "  )\n",
      "  (layer2): Sequential(\n",
      "    (0): Linear(in_features=100, out_features=100, bias=True)\n",
      "    (1): ReLU()\n",
      "    (2): Dropout(p=0.5, inplace=False)\n",
      "  )\n",
      "  (layer3): Sequential(\n",
      "    (0): Linear(in_features=100, out_features=10, bias=True)\n",
      "    (1): ReLU()\n",
      "    (2): Dropout(p=0.5, inplace=False)\n",
      "  )\n",
      "  (outputLayer): Softmax(dim=1)\n",
      ")\n"
     ]
    }
   ],
   "source": [
    "print(model)"
   ]
  },
  {
   "cell_type": "code",
   "execution_count": null,
   "id": "green-television",
   "metadata": {},
   "outputs": [],
   "source": []
  }
 ],
 "metadata": {
  "kernelspec": {
   "display_name": "Python 3 (ipykernel)",
   "language": "python",
   "name": "python3"
  },
  "language_info": {
   "codemirror_mode": {
    "name": "ipython",
    "version": 3
   },
   "file_extension": ".py",
   "mimetype": "text/x-python",
   "name": "python",
   "nbconvert_exporter": "python",
   "pygments_lexer": "ipython3",
   "version": "3.8.3"
  }
 },
 "nbformat": 4,
 "nbformat_minor": 5
}
